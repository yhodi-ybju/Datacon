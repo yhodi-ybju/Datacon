{
 "cells": [
  {
   "metadata": {},
   "cell_type": "markdown",
   "source": "# Мини‑таск 4: Генерация и отбор молекул‑кандидатов",
   "id": "dd289621628c7eee"
  },
  {
   "metadata": {},
   "cell_type": "markdown",
   "source": "### Импорт необходимых библиотек",
   "id": "78c786881fe50b52"
  },
  {
   "metadata": {},
   "cell_type": "code",
   "source": [
    "from transformers import pipeline, AutoTokenizer, AutoModelForCausalLM\n",
    "import pandas as pd\n",
    "from rdkit import Chem\n",
    "from rdkit.Chem import AllChem\n",
    "import numpy as np\n",
    "import pandas as pd\n",
    "from tqdm.auto import tqdm\n",
    "import joblib\n",
    "from rdkit.Chem import QED, Descriptors, Lipinski\n",
    "from rdkit.Chem.FilterCatalog import FilterCatalog, FilterCatalogParams\n",
    "from sascorer import calculateScore as sa_score\n",
    "from rdkit.Chem import Draw"
   ],
   "id": "a246f69afc1f30dc",
   "outputs": [],
   "execution_count": null
  },
  {
   "metadata": {},
   "cell_type": "markdown",
   "source": "Загружаем модель и токенизатор",
   "id": "30ba954a9de5a35a"
  },
  {
   "metadata": {},
   "cell_type": "code",
   "source": [
    "tokenizer = AutoTokenizer.from_pretrained(\"liyuesen/druggpt\")\n",
    "model     = AutoModelForCausalLM.from_pretrained(\"liyuesen/druggpt\")"
   ],
   "id": "38868aeb53ddc8b2",
   "outputs": [],
   "execution_count": null
  },
  {
   "metadata": {},
   "cell_type": "markdown",
   "source": "Создаём pipeline для генерации",
   "id": "9cd1db75170495f3"
  },
  {
   "metadata": {},
   "cell_type": "code",
   "source": [
    "gen_pipe = pipeline(\n",
    "    \"text-generation\", model=model, tokenizer=tokenizer,\n",
    "    device=-1, return_full_text=False\n",
    ")"
   ],
   "id": "368db339226a7080",
   "outputs": [],
   "execution_count": null
  },
  {
   "metadata": {},
   "cell_type": "code",
   "source": [
    "n_samples  = 2000\n",
    "batch_size = 16\n",
    "all_smiles = []"
   ],
   "id": "b46409f51ce1497e",
   "outputs": [],
   "execution_count": null
  },
  {
   "metadata": {},
   "cell_type": "code",
   "source": [
    "for _ in range(n_samples // batch_size):\n",
    "    outputs = gen_pipe(\n",
    "        [\"\"] * batch_size,\n",
    "        max_new_tokens=128,\n",
    "        do_sample=True,\n",
    "        top_k=50,\n",
    "        top_p=0.95,\n",
    "        temperature=0.7,\n",
    "        num_return_sequences=batch_size,\n",
    "    )\n",
    "    all_smiles += [out[\"generated_text\"].strip().split()[0] for out in outputs]"
   ],
   "id": "eef0766834c6d0c3",
   "outputs": [],
   "execution_count": null
  },
  {
   "metadata": {},
   "cell_type": "code",
   "source": [
    "remainder = n_samples - len(all_smiles)\n",
    "if remainder:\n",
    "    outputs = gen_pipe(\n",
    "        [\"\"] * remainder,\n",
    "        max_new_tokens=128,\n",
    "        do_sample=True,\n",
    "        top_k=50,\n",
    "        top_p=0.95,\n",
    "        temperature=0.7,\n",
    "        num_return_sequences=remainder,\n",
    "    )\n",
    "    all_smiles += [out[\"generated_text\"].strip().split()[0] for out in outputs]\n"
   ],
   "id": "6236da611f93f6ac",
   "outputs": [],
   "execution_count": null
  },
  {
   "metadata": {},
   "cell_type": "code",
   "source": "pd.DataFrame({\"smiles\": all_smiles}).to_csv(\"generated_data.csv\", index=False)",
   "id": "262a7d8635d47ab1",
   "outputs": [],
   "execution_count": null
  },
  {
   "metadata": {},
   "cell_type": "markdown",
   "source": "### Валидация SMILES и расчёт фингерпринтов",
   "id": "e181152e1c5cdd4e"
  },
  {
   "metadata": {},
   "cell_type": "code",
   "source": [
    "df = pd.read_csv('generated_data.csv')\n",
    "valid = []\n",
    "for smi in tqdm(df['smiles'], desc='Валидация'):\n",
    "    if Chem.MolFromSmiles(smi):\n",
    "        valid.append(smi)"
   ],
   "id": "76814395c4b09c64",
   "outputs": [],
   "execution_count": null
  },
  {
   "metadata": {},
   "cell_type": "code",
   "source": [
    "df_valid = pd.DataFrame({'smiles': valid})\n",
    "df_valid.to_csv('gen_valid.csv', index=False)"
   ],
   "id": "40660cf4f79cc044",
   "outputs": [],
   "execution_count": null
  },
  {
   "metadata": {},
   "cell_type": "code",
   "source": "len(valid)",
   "id": "afac84ad6aa6b19b",
   "outputs": [],
   "execution_count": null
  },
  {
   "metadata": {},
   "cell_type": "code",
   "source": [
    "def featurize(smi):\n",
    "    mol = Chem.MolFromSmiles(smi)\n",
    "    fp  = AllChem.GetMorganFingerprintAsBitVect(mol, 2, nBits=1024)\n",
    "    return np.array(fp)"
   ],
   "id": "606fb575cd25c006",
   "outputs": [],
   "execution_count": null
  },
  {
   "metadata": {},
   "cell_type": "markdown",
   "source": "### Предсказание активности (pIC50)",
   "id": "416c590a7f54c576"
  },
  {
   "metadata": {},
   "cell_type": "markdown",
   "source": "Загружаем модель и scaler",
   "id": "fca152f4e63417"
  },
  {
   "metadata": {},
   "cell_type": "code",
   "source": [
    "model = joblib.load('rf_model.pkl')\n",
    "scaler = joblib.load('scaler.pkl')"
   ],
   "id": "9c39f31abf67337e",
   "outputs": [],
   "execution_count": null
  },
  {
   "metadata": {},
   "cell_type": "markdown",
   "source": "Расчёт дескрипторов",
   "id": "641818e9625338a1"
  },
  {
   "metadata": {},
   "cell_type": "code",
   "source": [
    "X = np.vstack([featurize(s) for s in df_valid['smiles']])\n",
    "X_scaled = scaler.transform(X)"
   ],
   "id": "7ca372107405a59b",
   "outputs": [],
   "execution_count": null
  },
  {
   "metadata": {},
   "cell_type": "code",
   "source": [
    "df_valid['pIC50'] = model.predict(X_scaled)\n",
    "print(df_valid.head())"
   ],
   "id": "c65f03310ea1e8d3",
   "outputs": [],
   "execution_count": null
  },
  {
   "metadata": {},
   "cell_type": "markdown",
   "source": "### Расчёт QED, SA Score, токсофоров и Липински",
   "id": "dfcef7791819820c"
  },
  {
   "metadata": {},
   "cell_type": "markdown",
   "source": "Настраиваем BRENK каталог",
   "id": "38cc2500429ecca8"
  },
  {
   "metadata": {},
   "cell_type": "code",
   "source": [
    "tox_params = FilterCatalogParams()\n",
    "tox_params.AddCatalog(FilterCatalogParams.FilterCatalogs.BRENK)\n",
    "brenk = FilterCatalog(tox_params)"
   ],
   "id": "a7e3c1a6fecc6833",
   "outputs": [],
   "execution_count": null
  },
  {
   "metadata": {},
   "cell_type": "markdown",
   "source": "Функции",
   "id": "6abf21360c92d37b"
  },
  {
   "metadata": {},
   "cell_type": "code",
   "source": [
    "def has_tox(mol): return len(brenk.GetMatches(mol)) > 0\n",
    "\n",
    "def lipinski_violations(mol):\n",
    "    v = 0\n",
    "    if Descriptors.MolWt(mol) >= 500: v += 1\n",
    "    if Descriptors.MolLogP(mol) > 5: v += 1\n",
    "    if Lipinski.NumHDonors(mol) > 5: v += 1\n",
    "    if Lipinski.NumHAcceptors(mol) > 10: v += 1\n",
    "    return v"
   ],
   "id": "8c3b79dc7e653428",
   "outputs": [],
   "execution_count": null
  },
  {
   "metadata": {},
   "cell_type": "markdown",
   "source": "Считаем свойства",
   "id": "7170aef01a799f9a"
  },
  {
   "metadata": {},
   "cell_type": "code",
   "source": [
    "rows = []\n",
    "for smi, pic50 in zip(df_valid['smiles'], df_valid['pIC50']):\n",
    "    mol = Chem.MolFromSmiles(smi)\n",
    "    rows.append({\n",
    "        'smiles': smi,\n",
    "        'pIC50': pic50,\n",
    "        'QED': QED.qed(mol),\n",
    "        'SA': sa_score(mol),\n",
    "        'ToxAlert': int(has_tox(mol)),\n",
    "        'LipinskiViol': lipinski_violations(mol)\n",
    "    })"
   ],
   "id": "f83b84c73965e17d",
   "outputs": [],
   "execution_count": null
  },
  {
   "metadata": {},
   "cell_type": "code",
   "source": [
    "df_prop = pd.DataFrame(rows)\n",
    "print(df_prop.head())"
   ],
   "id": "58e6e5b972f8a88a",
   "outputs": [],
   "execution_count": null
  },
  {
   "metadata": {},
   "cell_type": "markdown",
   "source": "### Финальный отбор кандидатов",
   "id": "85f659c5b20a892c"
  },
  {
   "metadata": {},
   "cell_type": "markdown",
   "source": "Фильтр по критериям",
   "id": "5261a78c41076996"
  },
  {
   "metadata": {},
   "cell_type": "code",
   "source": [
    "df_hits = df_prop[\n",
    "    (df_prop.pIC50 > 6.0) &\n",
    "    (df_prop.QED >= 0.7) &\n",
    "    (df_prop.SA > 2) & (df_prop.SA < 6) &\n",
    "    (df_prop.ToxAlert == 0) &\n",
    "    (df_prop.LipinskiViol <= 1)\n",
    "].copy()"
   ],
   "id": "2b76712c57de476",
   "outputs": [],
   "execution_count": null
  },
  {
   "metadata": {},
   "cell_type": "code",
   "source": [
    "df_hits['Comment'] = 'Подходит'\n",
    "df_hits.to_csv('selected_hits.csv', index=False)"
   ],
   "id": "6fb7c65c4c2e4d98",
   "outputs": [],
   "execution_count": null
  },
  {
   "metadata": {},
   "cell_type": "code",
   "source": "len(df_hits)",
   "id": "f7d767c1574db1a7",
   "outputs": [],
   "execution_count": null
  },
  {
   "metadata": {},
   "cell_type": "markdown",
   "source": "### Визуализация результатов",
   "id": "1c4f3443eb32d7db"
  },
  {
   "metadata": {},
   "cell_type": "code",
   "source": [
    "mols = [Chem.MolFromSmiles(s) for s in df_hits['smiles']]\n",
    "legends = [f\"pIC50={v:.2f}\" for v in df_hits['pIC50']]\n",
    "Draw.MolsToGridImage(mols, molsPerRow=5, legends=legends)"
   ],
   "id": "d8812dcc466c16ce",
   "outputs": [],
   "execution_count": null
  }
 ],
 "metadata": {
  "kernelspec": {
   "display_name": "Python 3",
   "language": "python",
   "name": "python3"
  },
  "language_info": {
   "codemirror_mode": {
    "name": "ipython",
    "version": 2
   },
   "file_extension": ".py",
   "mimetype": "text/x-python",
   "name": "python",
   "nbconvert_exporter": "python",
   "pygments_lexer": "ipython2",
   "version": "2.7.6"
  }
 },
 "nbformat": 4,
 "nbformat_minor": 5
}
