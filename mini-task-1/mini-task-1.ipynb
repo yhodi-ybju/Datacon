{
 "cells": [
  {
   "metadata": {},
   "cell_type": "markdown",
   "source": "# Мини‑таск 1: Подготовка датасета для анализа активности молекул",
   "id": "125e37372dd9113f"
  },
  {
   "metadata": {},
   "cell_type": "markdown",
   "source": "### Импорт необходимых библиотек",
   "id": "2ea14db1d02ab983"
  },
  {
   "metadata": {
    "ExecuteTime": {
     "end_time": "2025-07-11T22:53:30.115328Z",
     "start_time": "2025-07-11T22:53:30.101943Z"
    }
   },
   "cell_type": "code",
   "source": [
    "import pandas as pd\n",
    "import numpy as np\n",
    "from rdkit import Chem"
   ],
   "id": "4ce3ffed097fdc05",
   "outputs": [],
   "execution_count": 206
  },
  {
   "metadata": {},
   "cell_type": "markdown",
   "source": "### Загрузка данных",
   "id": "603fa94434f81685"
  },
  {
   "metadata": {},
   "cell_type": "markdown",
   "source": "При скачивании данных сразу отфильтровали записи, у которых тип активности IC50",
   "id": "fe2d0ef4b25404c7"
  },
  {
   "metadata": {
    "ExecuteTime": {
     "end_time": "2025-07-11T22:53:30.162529Z",
     "start_time": "2025-07-11T22:53:30.120343Z"
    }
   },
   "cell_type": "code",
   "source": "df = pd.read_csv(\"data.csv\", sep=';')",
   "id": "b3ee53f9b7942730",
   "outputs": [],
   "execution_count": 207
  },
  {
   "metadata": {},
   "cell_type": "markdown",
   "source": "Посмотрим на первые строки",
   "id": "1bc4835b653b8156"
  },
  {
   "metadata": {
    "ExecuteTime": {
     "end_time": "2025-07-11T22:53:30.209239Z",
     "start_time": "2025-07-11T22:53:30.195217Z"
    }
   },
   "cell_type": "code",
   "source": "df.head()",
   "id": "45f9b13bed589916",
   "outputs": [
    {
     "data": {
      "text/plain": [
       "  Molecule ChEMBL ID Molecule Name  Molecule Max Phase  Molecular Weight  \\\n",
       "0        CHEMBL70104           NaN                 NaN            364.46   \n",
       "1        CHEMBL96098           NaN                 NaN            372.88   \n",
       "2        CHEMBL97179           NaN                 NaN            413.90   \n",
       "3            CHEMBL6  INDOMETHACIN                 4.0            357.79   \n",
       "4       CHEMBL355781           NaN                 NaN            390.46   \n",
       "\n",
       "   #RO5 Violations  AlogP  Compound Key  \\\n",
       "0              0.0   3.49             3   \n",
       "1              0.0   4.43            34   \n",
       "2              1.0   5.19             5   \n",
       "3              0.0   3.93  Indomethacin   \n",
       "4              0.0   4.25            21   \n",
       "\n",
       "                                              Smiles Standard Type  \\\n",
       "0    CC1(C)OC(=O)C(OC2CCCCC2)=C1c1ccc(S(C)(=O)=O)cc1          IC50   \n",
       "1     CCc1ccc(-c2ncc(Cl)cc2-c2ccc(S(C)(=O)=O)cc2)cn1          IC50   \n",
       "2  CCCCOC(=O)Cc1c(C)n(C(=O)c2ccc(Cl)cc2)c2ccc(OC)...          IC50   \n",
       "3     COc1ccc2c(c1)c(CC(=O)O)c(C)n2C(=O)c1ccc(Cl)cc1          IC50   \n",
       "4  CS(=O)(=O)c1ccc(-c2csc(CC(=O)O)c2-c2ccc(F)cc2)cc1          IC50   \n",
       "\n",
       "  Standard Relation  ...  Document ChEMBL ID Source ID     Source Description  \\\n",
       "0               '='  ...       CHEMBL1131821         1  Scientific Literature   \n",
       "1               '='  ...       CHEMBL1130609         1  Scientific Literature   \n",
       "2               '='  ...       CHEMBL1133457         1  Scientific Literature   \n",
       "3               '<'  ...       CHEMBL1131754         1  Scientific Literature   \n",
       "4               '>'  ...       CHEMBL1128908         1  Scientific Literature   \n",
       "\n",
       "       Document Journal Document Year Cell ChEMBL ID  Properties  Action Type  \\\n",
       "0  Bioorg Med Chem Lett        1999.0            NaN         NaN          NaN   \n",
       "1  Bioorg Med Chem Lett        1998.0            NaN         NaN          NaN   \n",
       "2            J Med Chem        2000.0            NaN         NaN          NaN   \n",
       "3  Bioorg Med Chem Lett        1999.0            NaN         NaN          NaN   \n",
       "4  Bioorg Med Chem Lett        1996.0  CHEMBL3308860         NaN          NaN   \n",
       "\n",
       "   Standard Text Value   Value  \n",
       "0                  NaN    0.04  \n",
       "1                  NaN    1.70  \n",
       "2                  NaN    0.05  \n",
       "3                  NaN  200.00  \n",
       "4                  NaN   10.00  \n",
       "\n",
       "[5 rows x 48 columns]"
      ],
      "text/html": [
       "<div>\n",
       "<style scoped>\n",
       "    .dataframe tbody tr th:only-of-type {\n",
       "        vertical-align: middle;\n",
       "    }\n",
       "\n",
       "    .dataframe tbody tr th {\n",
       "        vertical-align: top;\n",
       "    }\n",
       "\n",
       "    .dataframe thead th {\n",
       "        text-align: right;\n",
       "    }\n",
       "</style>\n",
       "<table border=\"1\" class=\"dataframe\">\n",
       "  <thead>\n",
       "    <tr style=\"text-align: right;\">\n",
       "      <th></th>\n",
       "      <th>Molecule ChEMBL ID</th>\n",
       "      <th>Molecule Name</th>\n",
       "      <th>Molecule Max Phase</th>\n",
       "      <th>Molecular Weight</th>\n",
       "      <th>#RO5 Violations</th>\n",
       "      <th>AlogP</th>\n",
       "      <th>Compound Key</th>\n",
       "      <th>Smiles</th>\n",
       "      <th>Standard Type</th>\n",
       "      <th>Standard Relation</th>\n",
       "      <th>...</th>\n",
       "      <th>Document ChEMBL ID</th>\n",
       "      <th>Source ID</th>\n",
       "      <th>Source Description</th>\n",
       "      <th>Document Journal</th>\n",
       "      <th>Document Year</th>\n",
       "      <th>Cell ChEMBL ID</th>\n",
       "      <th>Properties</th>\n",
       "      <th>Action Type</th>\n",
       "      <th>Standard Text Value</th>\n",
       "      <th>Value</th>\n",
       "    </tr>\n",
       "  </thead>\n",
       "  <tbody>\n",
       "    <tr>\n",
       "      <th>0</th>\n",
       "      <td>CHEMBL70104</td>\n",
       "      <td>NaN</td>\n",
       "      <td>NaN</td>\n",
       "      <td>364.46</td>\n",
       "      <td>0.0</td>\n",
       "      <td>3.49</td>\n",
       "      <td>3</td>\n",
       "      <td>CC1(C)OC(=O)C(OC2CCCCC2)=C1c1ccc(S(C)(=O)=O)cc1</td>\n",
       "      <td>IC50</td>\n",
       "      <td>'='</td>\n",
       "      <td>...</td>\n",
       "      <td>CHEMBL1131821</td>\n",
       "      <td>1</td>\n",
       "      <td>Scientific Literature</td>\n",
       "      <td>Bioorg Med Chem Lett</td>\n",
       "      <td>1999.0</td>\n",
       "      <td>NaN</td>\n",
       "      <td>NaN</td>\n",
       "      <td>NaN</td>\n",
       "      <td>NaN</td>\n",
       "      <td>0.04</td>\n",
       "    </tr>\n",
       "    <tr>\n",
       "      <th>1</th>\n",
       "      <td>CHEMBL96098</td>\n",
       "      <td>NaN</td>\n",
       "      <td>NaN</td>\n",
       "      <td>372.88</td>\n",
       "      <td>0.0</td>\n",
       "      <td>4.43</td>\n",
       "      <td>34</td>\n",
       "      <td>CCc1ccc(-c2ncc(Cl)cc2-c2ccc(S(C)(=O)=O)cc2)cn1</td>\n",
       "      <td>IC50</td>\n",
       "      <td>'='</td>\n",
       "      <td>...</td>\n",
       "      <td>CHEMBL1130609</td>\n",
       "      <td>1</td>\n",
       "      <td>Scientific Literature</td>\n",
       "      <td>Bioorg Med Chem Lett</td>\n",
       "      <td>1998.0</td>\n",
       "      <td>NaN</td>\n",
       "      <td>NaN</td>\n",
       "      <td>NaN</td>\n",
       "      <td>NaN</td>\n",
       "      <td>1.70</td>\n",
       "    </tr>\n",
       "    <tr>\n",
       "      <th>2</th>\n",
       "      <td>CHEMBL97179</td>\n",
       "      <td>NaN</td>\n",
       "      <td>NaN</td>\n",
       "      <td>413.90</td>\n",
       "      <td>1.0</td>\n",
       "      <td>5.19</td>\n",
       "      <td>5</td>\n",
       "      <td>CCCCOC(=O)Cc1c(C)n(C(=O)c2ccc(Cl)cc2)c2ccc(OC)...</td>\n",
       "      <td>IC50</td>\n",
       "      <td>'='</td>\n",
       "      <td>...</td>\n",
       "      <td>CHEMBL1133457</td>\n",
       "      <td>1</td>\n",
       "      <td>Scientific Literature</td>\n",
       "      <td>J Med Chem</td>\n",
       "      <td>2000.0</td>\n",
       "      <td>NaN</td>\n",
       "      <td>NaN</td>\n",
       "      <td>NaN</td>\n",
       "      <td>NaN</td>\n",
       "      <td>0.05</td>\n",
       "    </tr>\n",
       "    <tr>\n",
       "      <th>3</th>\n",
       "      <td>CHEMBL6</td>\n",
       "      <td>INDOMETHACIN</td>\n",
       "      <td>4.0</td>\n",
       "      <td>357.79</td>\n",
       "      <td>0.0</td>\n",
       "      <td>3.93</td>\n",
       "      <td>Indomethacin</td>\n",
       "      <td>COc1ccc2c(c1)c(CC(=O)O)c(C)n2C(=O)c1ccc(Cl)cc1</td>\n",
       "      <td>IC50</td>\n",
       "      <td>'&lt;'</td>\n",
       "      <td>...</td>\n",
       "      <td>CHEMBL1131754</td>\n",
       "      <td>1</td>\n",
       "      <td>Scientific Literature</td>\n",
       "      <td>Bioorg Med Chem Lett</td>\n",
       "      <td>1999.0</td>\n",
       "      <td>NaN</td>\n",
       "      <td>NaN</td>\n",
       "      <td>NaN</td>\n",
       "      <td>NaN</td>\n",
       "      <td>200.00</td>\n",
       "    </tr>\n",
       "    <tr>\n",
       "      <th>4</th>\n",
       "      <td>CHEMBL355781</td>\n",
       "      <td>NaN</td>\n",
       "      <td>NaN</td>\n",
       "      <td>390.46</td>\n",
       "      <td>0.0</td>\n",
       "      <td>4.25</td>\n",
       "      <td>21</td>\n",
       "      <td>CS(=O)(=O)c1ccc(-c2csc(CC(=O)O)c2-c2ccc(F)cc2)cc1</td>\n",
       "      <td>IC50</td>\n",
       "      <td>'&gt;'</td>\n",
       "      <td>...</td>\n",
       "      <td>CHEMBL1128908</td>\n",
       "      <td>1</td>\n",
       "      <td>Scientific Literature</td>\n",
       "      <td>Bioorg Med Chem Lett</td>\n",
       "      <td>1996.0</td>\n",
       "      <td>CHEMBL3308860</td>\n",
       "      <td>NaN</td>\n",
       "      <td>NaN</td>\n",
       "      <td>NaN</td>\n",
       "      <td>10.00</td>\n",
       "    </tr>\n",
       "  </tbody>\n",
       "</table>\n",
       "<p>5 rows × 48 columns</p>\n",
       "</div>"
      ]
     },
     "execution_count": 208,
     "metadata": {},
     "output_type": "execute_result"
    }
   ],
   "execution_count": 208
  },
  {
   "metadata": {},
   "cell_type": "markdown",
   "source": "Размер датасета",
   "id": "ac9b3be59229bb2e"
  },
  {
   "metadata": {
    "ExecuteTime": {
     "end_time": "2025-07-11T22:53:30.271174Z",
     "start_time": "2025-07-11T22:53:30.256213Z"
    }
   },
   "cell_type": "code",
   "source": "df.shape",
   "id": "a91b2aaa3c4a43d0",
   "outputs": [
    {
     "data": {
      "text/plain": [
       "(7979, 48)"
      ]
     },
     "execution_count": 209,
     "metadata": {},
     "output_type": "execute_result"
    }
   ],
   "execution_count": 209
  },
  {
   "metadata": {},
   "cell_type": "markdown",
   "source": "Тип колонок",
   "id": "5510b5be6307d7b5"
  },
  {
   "metadata": {
    "ExecuteTime": {
     "end_time": "2025-07-11T22:53:30.319173Z",
     "start_time": "2025-07-11T22:53:30.305160Z"
    }
   },
   "cell_type": "code",
   "source": "df.dtypes",
   "id": "c6e28b2a96cdeeed",
   "outputs": [
    {
     "data": {
      "text/plain": [
       "Molecule ChEMBL ID             object\n",
       "Molecule Name                  object\n",
       "Molecule Max Phase            float64\n",
       "Molecular Weight              float64\n",
       "#RO5 Violations               float64\n",
       "AlogP                         float64\n",
       "Compound Key                   object\n",
       "Smiles                         object\n",
       "Standard Type                  object\n",
       "Standard Relation              object\n",
       "Standard Value                float64\n",
       "Standard Units                 object\n",
       "pChEMBL Value                 float64\n",
       "Data Validity Comment          object\n",
       "Comment                        object\n",
       "Uo Units                       object\n",
       "Ligand Efficiency BEI         float64\n",
       "Ligand Efficiency LE          float64\n",
       "Ligand Efficiency LLE         float64\n",
       "Ligand Efficiency SEI         float64\n",
       "Potential Duplicate             int64\n",
       "Assay ChEMBL ID                object\n",
       "Assay Description              object\n",
       "Assay Type                     object\n",
       "BAO Format ID                  object\n",
       "BAO Label                      object\n",
       "Assay Organism                 object\n",
       "Assay Tissue ChEMBL ID         object\n",
       "Assay Tissue Name              object\n",
       "Assay Cell Type                object\n",
       "Assay Subcellular Fraction     object\n",
       "Assay Parameters               object\n",
       "Assay Variant Accession       float64\n",
       "Assay Variant Mutation        float64\n",
       "Target ChEMBL ID               object\n",
       "Target Name                    object\n",
       "Target Organism                object\n",
       "Target Type                    object\n",
       "Document ChEMBL ID             object\n",
       "Source ID                       int64\n",
       "Source Description             object\n",
       "Document Journal               object\n",
       "Document Year                 float64\n",
       "Cell ChEMBL ID                 object\n",
       "Properties                     object\n",
       "Action Type                    object\n",
       "Standard Text Value           float64\n",
       "Value                         float64\n",
       "dtype: object"
      ]
     },
     "execution_count": 210,
     "metadata": {},
     "output_type": "execute_result"
    }
   ],
   "execution_count": 210
  },
  {
   "metadata": {},
   "cell_type": "markdown",
   "source": "Информацию о датасете",
   "id": "9df161f1d651166b"
  },
  {
   "metadata": {
    "ExecuteTime": {
     "end_time": "2025-07-11T22:53:30.397846Z",
     "start_time": "2025-07-11T22:53:30.382843Z"
    }
   },
   "cell_type": "code",
   "source": "df.info()",
   "id": "ba88754f913250ae",
   "outputs": [
    {
     "name": "stdout",
     "output_type": "stream",
     "text": [
      "<class 'pandas.core.frame.DataFrame'>\n",
      "RangeIndex: 7979 entries, 0 to 7978\n",
      "Data columns (total 48 columns):\n",
      " #   Column                      Non-Null Count  Dtype  \n",
      "---  ------                      --------------  -----  \n",
      " 0   Molecule ChEMBL ID          7979 non-null   object \n",
      " 1   Molecule Name               1782 non-null   object \n",
      " 2   Molecule Max Phase          1462 non-null   float64\n",
      " 3   Molecular Weight            7966 non-null   float64\n",
      " 4   #RO5 Violations             7873 non-null   float64\n",
      " 5   AlogP                       7873 non-null   float64\n",
      " 6   Compound Key                7979 non-null   object \n",
      " 7   Smiles                      7945 non-null   object \n",
      " 8   Standard Type               7979 non-null   object \n",
      " 9   Standard Relation           6978 non-null   object \n",
      " 10  Standard Value              6978 non-null   float64\n",
      " 11  Standard Units              6997 non-null   object \n",
      " 12  pChEMBL Value               5653 non-null   float64\n",
      " 13  Data Validity Comment       340 non-null    object \n",
      " 14  Comment                     1089 non-null   object \n",
      " 15  Uo Units                    6997 non-null   object \n",
      " 16  Ligand Efficiency BEI       5563 non-null   float64\n",
      " 17  Ligand Efficiency LE        5533 non-null   float64\n",
      " 18  Ligand Efficiency LLE       5533 non-null   float64\n",
      " 19  Ligand Efficiency SEI       5531 non-null   float64\n",
      " 20  Potential Duplicate         7979 non-null   int64  \n",
      " 21  Assay ChEMBL ID             7979 non-null   object \n",
      " 22  Assay Description           7979 non-null   object \n",
      " 23  Assay Type                  7979 non-null   object \n",
      " 24  BAO Format ID               7979 non-null   object \n",
      " 25  BAO Label                   7979 non-null   object \n",
      " 26  Assay Organism              4314 non-null   object \n",
      " 27  Assay Tissue ChEMBL ID      961 non-null    object \n",
      " 28  Assay Tissue Name           962 non-null    object \n",
      " 29  Assay Cell Type             1669 non-null   object \n",
      " 30  Assay Subcellular Fraction  24 non-null     object \n",
      " 31  Assay Parameters            8 non-null      object \n",
      " 32  Assay Variant Accession     0 non-null      float64\n",
      " 33  Assay Variant Mutation      0 non-null      float64\n",
      " 34  Target ChEMBL ID            7979 non-null   object \n",
      " 35  Target Name                 7979 non-null   object \n",
      " 36  Target Organism             7979 non-null   object \n",
      " 37  Target Type                 7979 non-null   object \n",
      " 38  Document ChEMBL ID          7979 non-null   object \n",
      " 39  Source ID                   7979 non-null   int64  \n",
      " 40  Source Description          7979 non-null   object \n",
      " 41  Document Journal            7011 non-null   object \n",
      " 42  Document Year               7108 non-null   float64\n",
      " 43  Cell ChEMBL ID              1388 non-null   object \n",
      " 44  Properties                  536 non-null    object \n",
      " 45  Action Type                 801 non-null    object \n",
      " 46  Standard Text Value         0 non-null      float64\n",
      " 47  Value                       6978 non-null   float64\n",
      "dtypes: float64(15), int64(2), object(31)\n",
      "memory usage: 2.9+ MB\n"
     ]
    }
   ],
   "execution_count": 211
  },
  {
   "metadata": {},
   "cell_type": "markdown",
   "source": "Статистическое описание данных",
   "id": "8dcef1978b7846ea"
  },
  {
   "metadata": {
    "ExecuteTime": {
     "end_time": "2025-07-11T22:53:30.507706Z",
     "start_time": "2025-07-11T22:53:30.477595Z"
    }
   },
   "cell_type": "code",
   "source": "df.describe()",
   "id": "760a6343e6babeaa",
   "outputs": [
    {
     "data": {
      "text/plain": [
       "       Molecule Max Phase  Molecular Weight  #RO5 Violations        AlogP  \\\n",
       "count         1462.000000       7966.000000      7873.000000  7873.000000   \n",
       "mean             3.705540        386.010060         0.268767     3.755918   \n",
       "std              0.880034        129.600237         0.563463     1.611136   \n",
       "min             -1.000000         32.050000         0.000000   -13.050000   \n",
       "25%              4.000000        329.372500         0.000000     2.940000   \n",
       "50%              4.000000        379.435000         0.000000     3.780000   \n",
       "75%              4.000000        423.440000         0.000000     4.590000   \n",
       "max              4.000000       2324.380000         4.000000    13.310000   \n",
       "\n",
       "       Standard Value  pChEMBL Value  Ligand Efficiency BEI  \\\n",
       "count    6.978000e+03    5653.000000            5563.000000   \n",
       "mean     1.043837e+06       6.332271              17.005918   \n",
       "std      1.957618e+07       1.141168               4.400239   \n",
       "min      0.000000e+00       4.000000               2.230000   \n",
       "25%      1.000000e+02       5.500000              14.070000   \n",
       "50%      9.800000e+02       6.300000              16.750000   \n",
       "75%      1.000000e+04       7.150000              19.625000   \n",
       "max      8.333357e+08      10.700000              53.820000   \n",
       "\n",
       "       Ligand Efficiency LE  Ligand Efficiency LLE  Ligand Efficiency SEI  \\\n",
       "count           5533.000000            5533.000000            5531.000000   \n",
       "mean               0.340481               2.486374              10.119599   \n",
       "std                0.087585               1.650316               6.565549   \n",
       "min                0.100000              -6.880000               1.560000   \n",
       "25%                0.280000               1.520000               6.810000   \n",
       "50%                0.340000               2.600000               8.990000   \n",
       "75%                0.400000               3.610000              11.525000   \n",
       "max                0.990000              10.720000             166.600000   \n",
       "\n",
       "       Potential Duplicate  Assay Variant Accession  Assay Variant Mutation  \\\n",
       "count          7979.000000                      0.0                     0.0   \n",
       "mean              0.069934                      NaN                     NaN   \n",
       "std               0.255051                      NaN                     NaN   \n",
       "min               0.000000                      NaN                     NaN   \n",
       "25%               0.000000                      NaN                     NaN   \n",
       "50%               0.000000                      NaN                     NaN   \n",
       "75%               0.000000                      NaN                     NaN   \n",
       "max               1.000000                      NaN                     NaN   \n",
       "\n",
       "         Source ID  Document Year  Standard Text Value          Value  \n",
       "count  7979.000000    7108.000000                  0.0    6978.000000  \n",
       "mean      2.989222    2009.073016                  NaN     605.346449  \n",
       "std       5.948862       8.228747                  NaN    7105.585059  \n",
       "min       1.000000    1994.000000                  NaN      -8.220000  \n",
       "25%       1.000000    2001.000000                  NaN       0.281000  \n",
       "50%       1.000000    2010.000000                  NaN       2.800000  \n",
       "75%       1.000000    2016.000000                  NaN      15.425000  \n",
       "max      65.000000    2024.000000                  NaN  100000.000000  "
      ],
      "text/html": [
       "<div>\n",
       "<style scoped>\n",
       "    .dataframe tbody tr th:only-of-type {\n",
       "        vertical-align: middle;\n",
       "    }\n",
       "\n",
       "    .dataframe tbody tr th {\n",
       "        vertical-align: top;\n",
       "    }\n",
       "\n",
       "    .dataframe thead th {\n",
       "        text-align: right;\n",
       "    }\n",
       "</style>\n",
       "<table border=\"1\" class=\"dataframe\">\n",
       "  <thead>\n",
       "    <tr style=\"text-align: right;\">\n",
       "      <th></th>\n",
       "      <th>Molecule Max Phase</th>\n",
       "      <th>Molecular Weight</th>\n",
       "      <th>#RO5 Violations</th>\n",
       "      <th>AlogP</th>\n",
       "      <th>Standard Value</th>\n",
       "      <th>pChEMBL Value</th>\n",
       "      <th>Ligand Efficiency BEI</th>\n",
       "      <th>Ligand Efficiency LE</th>\n",
       "      <th>Ligand Efficiency LLE</th>\n",
       "      <th>Ligand Efficiency SEI</th>\n",
       "      <th>Potential Duplicate</th>\n",
       "      <th>Assay Variant Accession</th>\n",
       "      <th>Assay Variant Mutation</th>\n",
       "      <th>Source ID</th>\n",
       "      <th>Document Year</th>\n",
       "      <th>Standard Text Value</th>\n",
       "      <th>Value</th>\n",
       "    </tr>\n",
       "  </thead>\n",
       "  <tbody>\n",
       "    <tr>\n",
       "      <th>count</th>\n",
       "      <td>1462.000000</td>\n",
       "      <td>7966.000000</td>\n",
       "      <td>7873.000000</td>\n",
       "      <td>7873.000000</td>\n",
       "      <td>6.978000e+03</td>\n",
       "      <td>5653.000000</td>\n",
       "      <td>5563.000000</td>\n",
       "      <td>5533.000000</td>\n",
       "      <td>5533.000000</td>\n",
       "      <td>5531.000000</td>\n",
       "      <td>7979.000000</td>\n",
       "      <td>0.0</td>\n",
       "      <td>0.0</td>\n",
       "      <td>7979.000000</td>\n",
       "      <td>7108.000000</td>\n",
       "      <td>0.0</td>\n",
       "      <td>6978.000000</td>\n",
       "    </tr>\n",
       "    <tr>\n",
       "      <th>mean</th>\n",
       "      <td>3.705540</td>\n",
       "      <td>386.010060</td>\n",
       "      <td>0.268767</td>\n",
       "      <td>3.755918</td>\n",
       "      <td>1.043837e+06</td>\n",
       "      <td>6.332271</td>\n",
       "      <td>17.005918</td>\n",
       "      <td>0.340481</td>\n",
       "      <td>2.486374</td>\n",
       "      <td>10.119599</td>\n",
       "      <td>0.069934</td>\n",
       "      <td>NaN</td>\n",
       "      <td>NaN</td>\n",
       "      <td>2.989222</td>\n",
       "      <td>2009.073016</td>\n",
       "      <td>NaN</td>\n",
       "      <td>605.346449</td>\n",
       "    </tr>\n",
       "    <tr>\n",
       "      <th>std</th>\n",
       "      <td>0.880034</td>\n",
       "      <td>129.600237</td>\n",
       "      <td>0.563463</td>\n",
       "      <td>1.611136</td>\n",
       "      <td>1.957618e+07</td>\n",
       "      <td>1.141168</td>\n",
       "      <td>4.400239</td>\n",
       "      <td>0.087585</td>\n",
       "      <td>1.650316</td>\n",
       "      <td>6.565549</td>\n",
       "      <td>0.255051</td>\n",
       "      <td>NaN</td>\n",
       "      <td>NaN</td>\n",
       "      <td>5.948862</td>\n",
       "      <td>8.228747</td>\n",
       "      <td>NaN</td>\n",
       "      <td>7105.585059</td>\n",
       "    </tr>\n",
       "    <tr>\n",
       "      <th>min</th>\n",
       "      <td>-1.000000</td>\n",
       "      <td>32.050000</td>\n",
       "      <td>0.000000</td>\n",
       "      <td>-13.050000</td>\n",
       "      <td>0.000000e+00</td>\n",
       "      <td>4.000000</td>\n",
       "      <td>2.230000</td>\n",
       "      <td>0.100000</td>\n",
       "      <td>-6.880000</td>\n",
       "      <td>1.560000</td>\n",
       "      <td>0.000000</td>\n",
       "      <td>NaN</td>\n",
       "      <td>NaN</td>\n",
       "      <td>1.000000</td>\n",
       "      <td>1994.000000</td>\n",
       "      <td>NaN</td>\n",
       "      <td>-8.220000</td>\n",
       "    </tr>\n",
       "    <tr>\n",
       "      <th>25%</th>\n",
       "      <td>4.000000</td>\n",
       "      <td>329.372500</td>\n",
       "      <td>0.000000</td>\n",
       "      <td>2.940000</td>\n",
       "      <td>1.000000e+02</td>\n",
       "      <td>5.500000</td>\n",
       "      <td>14.070000</td>\n",
       "      <td>0.280000</td>\n",
       "      <td>1.520000</td>\n",
       "      <td>6.810000</td>\n",
       "      <td>0.000000</td>\n",
       "      <td>NaN</td>\n",
       "      <td>NaN</td>\n",
       "      <td>1.000000</td>\n",
       "      <td>2001.000000</td>\n",
       "      <td>NaN</td>\n",
       "      <td>0.281000</td>\n",
       "    </tr>\n",
       "    <tr>\n",
       "      <th>50%</th>\n",
       "      <td>4.000000</td>\n",
       "      <td>379.435000</td>\n",
       "      <td>0.000000</td>\n",
       "      <td>3.780000</td>\n",
       "      <td>9.800000e+02</td>\n",
       "      <td>6.300000</td>\n",
       "      <td>16.750000</td>\n",
       "      <td>0.340000</td>\n",
       "      <td>2.600000</td>\n",
       "      <td>8.990000</td>\n",
       "      <td>0.000000</td>\n",
       "      <td>NaN</td>\n",
       "      <td>NaN</td>\n",
       "      <td>1.000000</td>\n",
       "      <td>2010.000000</td>\n",
       "      <td>NaN</td>\n",
       "      <td>2.800000</td>\n",
       "    </tr>\n",
       "    <tr>\n",
       "      <th>75%</th>\n",
       "      <td>4.000000</td>\n",
       "      <td>423.440000</td>\n",
       "      <td>0.000000</td>\n",
       "      <td>4.590000</td>\n",
       "      <td>1.000000e+04</td>\n",
       "      <td>7.150000</td>\n",
       "      <td>19.625000</td>\n",
       "      <td>0.400000</td>\n",
       "      <td>3.610000</td>\n",
       "      <td>11.525000</td>\n",
       "      <td>0.000000</td>\n",
       "      <td>NaN</td>\n",
       "      <td>NaN</td>\n",
       "      <td>1.000000</td>\n",
       "      <td>2016.000000</td>\n",
       "      <td>NaN</td>\n",
       "      <td>15.425000</td>\n",
       "    </tr>\n",
       "    <tr>\n",
       "      <th>max</th>\n",
       "      <td>4.000000</td>\n",
       "      <td>2324.380000</td>\n",
       "      <td>4.000000</td>\n",
       "      <td>13.310000</td>\n",
       "      <td>8.333357e+08</td>\n",
       "      <td>10.700000</td>\n",
       "      <td>53.820000</td>\n",
       "      <td>0.990000</td>\n",
       "      <td>10.720000</td>\n",
       "      <td>166.600000</td>\n",
       "      <td>1.000000</td>\n",
       "      <td>NaN</td>\n",
       "      <td>NaN</td>\n",
       "      <td>65.000000</td>\n",
       "      <td>2024.000000</td>\n",
       "      <td>NaN</td>\n",
       "      <td>100000.000000</td>\n",
       "    </tr>\n",
       "  </tbody>\n",
       "</table>\n",
       "</div>"
      ]
     },
     "execution_count": 212,
     "metadata": {},
     "output_type": "execute_result"
    }
   ],
   "execution_count": 212
  },
  {
   "metadata": {},
   "cell_type": "markdown",
   "source": "Пропущенные значения",
   "id": "9954c6186212a3ef"
  },
  {
   "metadata": {
    "ExecuteTime": {
     "end_time": "2025-07-11T22:53:30.571442Z",
     "start_time": "2025-07-11T22:53:30.556463Z"
    }
   },
   "cell_type": "code",
   "source": "df.isnull().sum()",
   "id": "f4d0838d65414346",
   "outputs": [
    {
     "data": {
      "text/plain": [
       "Molecule ChEMBL ID               0\n",
       "Molecule Name                 6197\n",
       "Molecule Max Phase            6517\n",
       "Molecular Weight                13\n",
       "#RO5 Violations                106\n",
       "AlogP                          106\n",
       "Compound Key                     0\n",
       "Smiles                          34\n",
       "Standard Type                    0\n",
       "Standard Relation             1001\n",
       "Standard Value                1001\n",
       "Standard Units                 982\n",
       "pChEMBL Value                 2326\n",
       "Data Validity Comment         7639\n",
       "Comment                       6890\n",
       "Uo Units                       982\n",
       "Ligand Efficiency BEI         2416\n",
       "Ligand Efficiency LE          2446\n",
       "Ligand Efficiency LLE         2446\n",
       "Ligand Efficiency SEI         2448\n",
       "Potential Duplicate              0\n",
       "Assay ChEMBL ID                  0\n",
       "Assay Description                0\n",
       "Assay Type                       0\n",
       "BAO Format ID                    0\n",
       "BAO Label                        0\n",
       "Assay Organism                3665\n",
       "Assay Tissue ChEMBL ID        7018\n",
       "Assay Tissue Name             7017\n",
       "Assay Cell Type               6310\n",
       "Assay Subcellular Fraction    7955\n",
       "Assay Parameters              7971\n",
       "Assay Variant Accession       7979\n",
       "Assay Variant Mutation        7979\n",
       "Target ChEMBL ID                 0\n",
       "Target Name                      0\n",
       "Target Organism                  0\n",
       "Target Type                      0\n",
       "Document ChEMBL ID               0\n",
       "Source ID                        0\n",
       "Source Description               0\n",
       "Document Journal               968\n",
       "Document Year                  871\n",
       "Cell ChEMBL ID                6591\n",
       "Properties                    7443\n",
       "Action Type                   7178\n",
       "Standard Text Value           7979\n",
       "Value                         1001\n",
       "dtype: int64"
      ]
     },
     "execution_count": 213,
     "metadata": {},
     "output_type": "execute_result"
    }
   ],
   "execution_count": 213
  },
  {
   "metadata": {},
   "cell_type": "markdown",
   "source": "Хоть и скачали датасет с фильтрацией, но проверим у всех ли тип активности IC50",
   "id": "d5217ff432504ad7"
  },
  {
   "metadata": {
    "ExecuteTime": {
     "end_time": "2025-07-11T22:53:30.726899Z",
     "start_time": "2025-07-11T22:53:30.712243Z"
    }
   },
   "cell_type": "code",
   "source": "df = df[df['Standard Type'] == 'IC50'].copy()",
   "id": "f6bc1247689175ec",
   "outputs": [],
   "execution_count": 214
  },
  {
   "metadata": {
    "ExecuteTime": {
     "end_time": "2025-07-11T22:53:30.772915Z",
     "start_time": "2025-07-11T22:53:30.757900Z"
    }
   },
   "cell_type": "code",
   "source": "df.shape",
   "id": "9a40af3ada60eee3",
   "outputs": [
    {
     "data": {
      "text/plain": [
       "(7979, 48)"
      ]
     },
     "execution_count": 215,
     "metadata": {},
     "output_type": "execute_result"
    }
   ],
   "execution_count": 215
  },
  {
   "metadata": {},
   "cell_type": "markdown",
   "source": "### Отбор релевантных колонок",
   "id": "de6fde841740af03"
  },
  {
   "metadata": {},
   "cell_type": "markdown",
   "source": [
    "|  № | Колонка                    | Тип     | Заполнено | Описание                                                 |\n",
    "| -: |:---------------------------|:--------| --------: |:---------------------------------------------------------|\n",
    "|  0 | Molecule ChEMBL ID         | object  |      7979 | Уникальный id молекулы в ChEMBL                          |\n",
    "|  1 | Molecule Name              | object  |      1782 | Название соединения                                      |\n",
    "|  2 | Molecule Max Phase         | float64 |      1462 | Максимальная фаза клинических испытаний                  |\n",
    "|  3 | Molecular Weight           | float64 |      7966 | Молекулярная масса                                       |\n",
    "|  4 | #RO5 Violations            | float64 |      7873 | Количество нарушений правила пяти Липински               |\n",
    "|  5 | AlogP                      | float64 |      7873 | Гидрофобность молекул                                    |\n",
    "|  6 | Compound Key               | object  |      7979 | Альтернативный id соединения                             |\n",
    "|  7 | Smiles                     | object  |      7945 | Представление структуры в SMILES                         |\n",
    "|  8 | Standard Type              | object  |      7979 | Тип активности                                           |\n",
    "|  9 | Standard Relation          | object  |      6978 | Знак отношения (=, <, >, >=)                             |\n",
    "| 10 | Standard Value             | float64 |      6978 | Значение активности                                      |\n",
    "| 11 | Standard Units             | object  |      6997 | Единицы измерения активности                             |\n",
    "| 12 | pChEMBL Value              | float64 |      5653 | –log10(Standard Value)                                   |\n",
    "| 13 | Data Validity Comment      | object  |       340 | Комментарий к достоверности данных                       |\n",
    "| 14 | Comment                    | object  |      1089 | Общий комментарий к эксперименту                         |\n",
    "| 15 | Uo Units                   | object  |      6997 | Онтология единиц измерения                               |\n",
    "| 16 | Ligand Efficiency BEI      | float64 |      5563 | Активность на массу молекулы                             |\n",
    "| 17 | Ligand Efficiency LE       | float64 |      5533 | Эффективность связывания на тяжёлый атом                 |\n",
    "| 18 | Ligand Efficiency LLE      | float64 |      5533 | Баланс активности и липофильности                        |\n",
    "| 19 | Ligand Efficiency SEI      | float64 |      5531 | Активность на полярную поверхность молекулы              |\n",
    "| 20 | Potential Duplicate        | int64   |      7979 | Флаг на наличие дубликата (0 или 1)                      |\n",
    "| 21 | Assay ChEMBL ID            | object  |      7979 | Id биологического эксперимента                           |\n",
    "| 22 | Assay Description          | object  |      7979 | Краткое описание эксперимента                            |\n",
    "| 23 | Assay Type                 | object  |      7979 | Тип эксперимента (A - ADME, B — binding, F — functional) |\n",
    "| 24 | BAO Format ID              | object  |      7979 | BAO id формата эксперимента                              |\n",
    "| 25 | BAO Label                  | object  |      7979 | Название формата по BAO                                  |\n",
    "| 26 | Assay Organism             | object  |      4314 | Организм, в котором проводился эксперимент               |\n",
    "| 27 | Assay Tissue ChEMBL ID     | object  |       961 | Id ткани                                                 |\n",
    "| 28 | Assay Tissue Name          | object  |       962 | Название ткани                                           |\n",
    "| 29 | Assay Cell Type            | object  |      1669 | Тип клеток                                               |\n",
    "| 30 | Assay Subcellular Fraction | object  |        24 | Подклеточная фракция                                     |\n",
    "| 31 | Assay Parameters           | object  |         8 | Дополнительные параметры                                 |\n",
    "| 32 | Assay Variant Accession    | float64 |         0 |                                                          |\n",
    "| 33 | Assay Variant Mutation     | float64 |         0 |                                                          |\n",
    "| 34 | Target ChEMBL ID           | object  |      7979 | Id мишени                                                |\n",
    "| 35 | Target Name                | object  |      7979 | Название мишени                                          |\n",
    "| 36 | Target Organism            | object  |      7979 | Организм мишени                                          |\n",
    "| 37 | Target Type                | object  |      7979 | Тип мишени                                               |\n",
    "| 38 | Document ChEMBL ID         | object  |      7979 | Id научного источника                                    |\n",
    "| 39 | Source ID                  | int64   |      7979 | Внутренний id источника                                  |\n",
    "| 40 | Source Description         | object  |      7979 | Тип источника                                            |\n",
    "| 41 | Document Journal           | object  |      7011 | Название журнала                                         |\n",
    "| 42 | Document Year              | float64 |      7108 | Год публикации                                           |\n",
    "| 43 | Cell ChEMBL ID             | object  |      1388 | Id клеточной линии                                       |\n",
    "| 44 | Properties                 | object  |       536 | Дополнительные свойства                                  |\n",
    "| 45 | Action Type                | object  |       801 | Тип действия                                             |\n",
    "| 46 | Standard Text Value        | float64 |         0 |                                                          |\n",
    "| 47 | Value                      | float64 |      6978 | Альтернативное числовое значение активности              |\n"
   ],
   "id": "284c87fb9881c3f3"
  },
  {
   "metadata": {},
   "cell_type": "markdown",
   "source": "Выбираем релевантные колонки, которые отражают биологическую активность молекул или понадобятся для дальнейшей работы и также у которых нет много пропущенных значений",
   "id": "5c209b010b6d833b"
  },
  {
   "metadata": {
    "ExecuteTime": {
     "end_time": "2025-07-11T22:53:30.802914Z",
     "start_time": "2025-07-11T22:53:30.788905Z"
    }
   },
   "cell_type": "code",
   "source": [
    "relevant_columns = [\n",
    "    'Smiles',\n",
    "    'Molecular Weight',\n",
    "    '#RO5 Violations',\n",
    "    'AlogP',\n",
    "    'Standard Value',\n",
    "    'Standard Units'\n",
    "]"
   ],
   "id": "4ad5886aa82b23c3",
   "outputs": [],
   "execution_count": 216
  },
  {
   "metadata": {},
   "cell_type": "markdown",
   "source": "Сохраняем в новый датасет",
   "id": "df58e709fc953d44"
  },
  {
   "metadata": {
    "ExecuteTime": {
     "end_time": "2025-07-11T22:53:30.834155Z",
     "start_time": "2025-07-11T22:53:30.819135Z"
    }
   },
   "cell_type": "code",
   "source": "df = df[relevant_columns].reset_index(drop=True)",
   "id": "8ebc9e9b04fdd424",
   "outputs": [],
   "execution_count": 217
  },
  {
   "metadata": {},
   "cell_type": "markdown",
   "source": "Выведем первые строки нового датасета",
   "id": "11345a0be1f90696"
  },
  {
   "metadata": {
    "ExecuteTime": {
     "end_time": "2025-07-11T22:53:30.865610Z",
     "start_time": "2025-07-11T22:53:30.852158Z"
    }
   },
   "cell_type": "code",
   "source": "df.head()",
   "id": "40c30b7fb6a341bc",
   "outputs": [
    {
     "data": {
      "text/plain": [
       "                                              Smiles  Molecular Weight  \\\n",
       "0    CC1(C)OC(=O)C(OC2CCCCC2)=C1c1ccc(S(C)(=O)=O)cc1            364.46   \n",
       "1     CCc1ccc(-c2ncc(Cl)cc2-c2ccc(S(C)(=O)=O)cc2)cn1            372.88   \n",
       "2  CCCCOC(=O)Cc1c(C)n(C(=O)c2ccc(Cl)cc2)c2ccc(OC)...            413.90   \n",
       "3     COc1ccc2c(c1)c(CC(=O)O)c(C)n2C(=O)c1ccc(Cl)cc1            357.79   \n",
       "4  CS(=O)(=O)c1ccc(-c2csc(CC(=O)O)c2-c2ccc(F)cc2)cc1            390.46   \n",
       "\n",
       "   #RO5 Violations  AlogP  Standard Value Standard Units  \n",
       "0              0.0   3.49            40.0             nM  \n",
       "1              0.0   4.43          1700.0             nM  \n",
       "2              1.0   5.19            50.0             nM  \n",
       "3              0.0   3.93           200.0             nM  \n",
       "4              0.0   4.25         10000.0             nM  "
      ],
      "text/html": [
       "<div>\n",
       "<style scoped>\n",
       "    .dataframe tbody tr th:only-of-type {\n",
       "        vertical-align: middle;\n",
       "    }\n",
       "\n",
       "    .dataframe tbody tr th {\n",
       "        vertical-align: top;\n",
       "    }\n",
       "\n",
       "    .dataframe thead th {\n",
       "        text-align: right;\n",
       "    }\n",
       "</style>\n",
       "<table border=\"1\" class=\"dataframe\">\n",
       "  <thead>\n",
       "    <tr style=\"text-align: right;\">\n",
       "      <th></th>\n",
       "      <th>Smiles</th>\n",
       "      <th>Molecular Weight</th>\n",
       "      <th>#RO5 Violations</th>\n",
       "      <th>AlogP</th>\n",
       "      <th>Standard Value</th>\n",
       "      <th>Standard Units</th>\n",
       "    </tr>\n",
       "  </thead>\n",
       "  <tbody>\n",
       "    <tr>\n",
       "      <th>0</th>\n",
       "      <td>CC1(C)OC(=O)C(OC2CCCCC2)=C1c1ccc(S(C)(=O)=O)cc1</td>\n",
       "      <td>364.46</td>\n",
       "      <td>0.0</td>\n",
       "      <td>3.49</td>\n",
       "      <td>40.0</td>\n",
       "      <td>nM</td>\n",
       "    </tr>\n",
       "    <tr>\n",
       "      <th>1</th>\n",
       "      <td>CCc1ccc(-c2ncc(Cl)cc2-c2ccc(S(C)(=O)=O)cc2)cn1</td>\n",
       "      <td>372.88</td>\n",
       "      <td>0.0</td>\n",
       "      <td>4.43</td>\n",
       "      <td>1700.0</td>\n",
       "      <td>nM</td>\n",
       "    </tr>\n",
       "    <tr>\n",
       "      <th>2</th>\n",
       "      <td>CCCCOC(=O)Cc1c(C)n(C(=O)c2ccc(Cl)cc2)c2ccc(OC)...</td>\n",
       "      <td>413.90</td>\n",
       "      <td>1.0</td>\n",
       "      <td>5.19</td>\n",
       "      <td>50.0</td>\n",
       "      <td>nM</td>\n",
       "    </tr>\n",
       "    <tr>\n",
       "      <th>3</th>\n",
       "      <td>COc1ccc2c(c1)c(CC(=O)O)c(C)n2C(=O)c1ccc(Cl)cc1</td>\n",
       "      <td>357.79</td>\n",
       "      <td>0.0</td>\n",
       "      <td>3.93</td>\n",
       "      <td>200.0</td>\n",
       "      <td>nM</td>\n",
       "    </tr>\n",
       "    <tr>\n",
       "      <th>4</th>\n",
       "      <td>CS(=O)(=O)c1ccc(-c2csc(CC(=O)O)c2-c2ccc(F)cc2)cc1</td>\n",
       "      <td>390.46</td>\n",
       "      <td>0.0</td>\n",
       "      <td>4.25</td>\n",
       "      <td>10000.0</td>\n",
       "      <td>nM</td>\n",
       "    </tr>\n",
       "  </tbody>\n",
       "</table>\n",
       "</div>"
      ]
     },
     "execution_count": 218,
     "metadata": {},
     "output_type": "execute_result"
    }
   ],
   "execution_count": 218
  },
  {
   "metadata": {},
   "cell_type": "markdown",
   "source": "### Приведение значений активности к единому формату",
   "id": "797efd1788a72f52"
  },
  {
   "metadata": {},
   "cell_type": "markdown",
   "source": "Создаем функцию, которая приводит значения активности к нм",
   "id": "93567a3028703155"
  },
  {
   "metadata": {
    "ExecuteTime": {
     "end_time": "2025-07-11T22:53:30.927629Z",
     "start_time": "2025-07-11T22:53:30.913323Z"
    }
   },
   "cell_type": "code",
   "source": [
    "def convert_to_nM(row):\n",
    "    val  = row['Standard Value']\n",
    "    unit = row['Standard Units']\n",
    "    mw   = row['Molecular Weight']\n",
    "\n",
    "    try:\n",
    "        v = float(val)\n",
    "    except:\n",
    "        return np.nan\n",
    "\n",
    "    if pd.isna(unit):\n",
    "        return np.nan\n",
    "\n",
    "    u = unit.strip().lower()\n",
    "\n",
    "    if u == 'nm':\n",
    "        return v\n",
    "\n",
    "    if u == 'um':\n",
    "        return v * 1e3\n",
    "\n",
    "    if u =='ug.ml-1':\n",
    "        if pd.notna(mw) and mw > 0:\n",
    "            return (v * 1e3) / mw\n",
    "        else:\n",
    "            return np.nan\n",
    "\n",
    "    # все остальные (%, ug без объёма)\n",
    "    return np.nan"
   ],
   "id": "40ee34cc78e1b0b8",
   "outputs": [],
   "execution_count": 219
  },
  {
   "metadata": {},
   "cell_type": "markdown",
   "source": "Применяем функцию конвертирования и сохраняем в новую колонку",
   "id": "7166f2974b6717c6"
  },
  {
   "metadata": {
    "ExecuteTime": {
     "end_time": "2025-07-11T22:53:31.021316Z",
     "start_time": "2025-07-11T22:53:30.960283Z"
    }
   },
   "cell_type": "code",
   "source": "df['Activity'] = df.apply(convert_to_nM, axis=1)",
   "id": "6489c80218cc929c",
   "outputs": [],
   "execution_count": 220
  },
  {
   "metadata": {
    "ExecuteTime": {
     "end_time": "2025-07-11T22:53:31.052407Z",
     "start_time": "2025-07-11T22:53:31.030302Z"
    }
   },
   "cell_type": "code",
   "source": "df.head()",
   "id": "59f9b1117f2d4b93",
   "outputs": [
    {
     "data": {
      "text/plain": [
       "                                              Smiles  Molecular Weight  \\\n",
       "0    CC1(C)OC(=O)C(OC2CCCCC2)=C1c1ccc(S(C)(=O)=O)cc1            364.46   \n",
       "1     CCc1ccc(-c2ncc(Cl)cc2-c2ccc(S(C)(=O)=O)cc2)cn1            372.88   \n",
       "2  CCCCOC(=O)Cc1c(C)n(C(=O)c2ccc(Cl)cc2)c2ccc(OC)...            413.90   \n",
       "3     COc1ccc2c(c1)c(CC(=O)O)c(C)n2C(=O)c1ccc(Cl)cc1            357.79   \n",
       "4  CS(=O)(=O)c1ccc(-c2csc(CC(=O)O)c2-c2ccc(F)cc2)cc1            390.46   \n",
       "\n",
       "   #RO5 Violations  AlogP  Standard Value Standard Units  Activity  \n",
       "0              0.0   3.49            40.0             nM      40.0  \n",
       "1              0.0   4.43          1700.0             nM    1700.0  \n",
       "2              1.0   5.19            50.0             nM      50.0  \n",
       "3              0.0   3.93           200.0             nM     200.0  \n",
       "4              0.0   4.25         10000.0             nM   10000.0  "
      ],
      "text/html": [
       "<div>\n",
       "<style scoped>\n",
       "    .dataframe tbody tr th:only-of-type {\n",
       "        vertical-align: middle;\n",
       "    }\n",
       "\n",
       "    .dataframe tbody tr th {\n",
       "        vertical-align: top;\n",
       "    }\n",
       "\n",
       "    .dataframe thead th {\n",
       "        text-align: right;\n",
       "    }\n",
       "</style>\n",
       "<table border=\"1\" class=\"dataframe\">\n",
       "  <thead>\n",
       "    <tr style=\"text-align: right;\">\n",
       "      <th></th>\n",
       "      <th>Smiles</th>\n",
       "      <th>Molecular Weight</th>\n",
       "      <th>#RO5 Violations</th>\n",
       "      <th>AlogP</th>\n",
       "      <th>Standard Value</th>\n",
       "      <th>Standard Units</th>\n",
       "      <th>Activity</th>\n",
       "    </tr>\n",
       "  </thead>\n",
       "  <tbody>\n",
       "    <tr>\n",
       "      <th>0</th>\n",
       "      <td>CC1(C)OC(=O)C(OC2CCCCC2)=C1c1ccc(S(C)(=O)=O)cc1</td>\n",
       "      <td>364.46</td>\n",
       "      <td>0.0</td>\n",
       "      <td>3.49</td>\n",
       "      <td>40.0</td>\n",
       "      <td>nM</td>\n",
       "      <td>40.0</td>\n",
       "    </tr>\n",
       "    <tr>\n",
       "      <th>1</th>\n",
       "      <td>CCc1ccc(-c2ncc(Cl)cc2-c2ccc(S(C)(=O)=O)cc2)cn1</td>\n",
       "      <td>372.88</td>\n",
       "      <td>0.0</td>\n",
       "      <td>4.43</td>\n",
       "      <td>1700.0</td>\n",
       "      <td>nM</td>\n",
       "      <td>1700.0</td>\n",
       "    </tr>\n",
       "    <tr>\n",
       "      <th>2</th>\n",
       "      <td>CCCCOC(=O)Cc1c(C)n(C(=O)c2ccc(Cl)cc2)c2ccc(OC)...</td>\n",
       "      <td>413.90</td>\n",
       "      <td>1.0</td>\n",
       "      <td>5.19</td>\n",
       "      <td>50.0</td>\n",
       "      <td>nM</td>\n",
       "      <td>50.0</td>\n",
       "    </tr>\n",
       "    <tr>\n",
       "      <th>3</th>\n",
       "      <td>COc1ccc2c(c1)c(CC(=O)O)c(C)n2C(=O)c1ccc(Cl)cc1</td>\n",
       "      <td>357.79</td>\n",
       "      <td>0.0</td>\n",
       "      <td>3.93</td>\n",
       "      <td>200.0</td>\n",
       "      <td>nM</td>\n",
       "      <td>200.0</td>\n",
       "    </tr>\n",
       "    <tr>\n",
       "      <th>4</th>\n",
       "      <td>CS(=O)(=O)c1ccc(-c2csc(CC(=O)O)c2-c2ccc(F)cc2)cc1</td>\n",
       "      <td>390.46</td>\n",
       "      <td>0.0</td>\n",
       "      <td>4.25</td>\n",
       "      <td>10000.0</td>\n",
       "      <td>nM</td>\n",
       "      <td>10000.0</td>\n",
       "    </tr>\n",
       "  </tbody>\n",
       "</table>\n",
       "</div>"
      ]
     },
     "execution_count": 221,
     "metadata": {},
     "output_type": "execute_result"
    }
   ],
   "execution_count": 221
  },
  {
   "metadata": {},
   "cell_type": "markdown",
   "source": "Посмотрим сколько строк было конвертировано",
   "id": "5d1cc0c7786cde13"
  },
  {
   "metadata": {
    "ExecuteTime": {
     "end_time": "2025-07-11T22:53:31.129305Z",
     "start_time": "2025-07-11T22:53:31.100309Z"
    }
   },
   "cell_type": "code",
   "source": "df['Activity'].notna().sum()",
   "id": "3841dcd750bf0ea1",
   "outputs": [
    {
     "data": {
      "text/plain": [
       "np.int64(6976)"
      ]
     },
     "execution_count": 222,
     "metadata": {},
     "output_type": "execute_result"
    }
   ],
   "execution_count": 222
  },
  {
   "metadata": {},
   "cell_type": "markdown",
   "source": "### Обработка пропусков и дубликатов",
   "id": "ceea702d2200f435"
  },
  {
   "metadata": {},
   "cell_type": "markdown",
   "source": "Удаляем дубликаты",
   "id": "d8652a491cdbb0d8"
  },
  {
   "metadata": {
    "ExecuteTime": {
     "end_time": "2025-07-11T22:53:31.190530Z",
     "start_time": "2025-07-11T22:53:31.177334Z"
    }
   },
   "cell_type": "code",
   "source": "df = df.drop_duplicates().reset_index(drop=True)",
   "id": "9ef9fc83ec7e46b6",
   "outputs": [],
   "execution_count": 223
  },
  {
   "metadata": {},
   "cell_type": "markdown",
   "source": "Видим, что дубликатов нет",
   "id": "f8ccb08df3addb6e"
  },
  {
   "metadata": {
    "ExecuteTime": {
     "end_time": "2025-07-11T22:53:31.253519Z",
     "start_time": "2025-07-11T22:53:31.238519Z"
    }
   },
   "cell_type": "code",
   "source": "df.shape",
   "id": "309e8e205a948497",
   "outputs": [
    {
     "data": {
      "text/plain": [
       "(7371, 7)"
      ]
     },
     "execution_count": 224,
     "metadata": {},
     "output_type": "execute_result"
    }
   ],
   "execution_count": 224
  },
  {
   "metadata": {},
   "cell_type": "markdown",
   "source": "Удаляем записи у которых нет расчитанной активности",
   "id": "30bce9dad242744c"
  },
  {
   "metadata": {
    "ExecuteTime": {
     "end_time": "2025-07-11T22:53:31.269628Z",
     "start_time": "2025-07-11T22:53:31.256523Z"
    }
   },
   "cell_type": "code",
   "source": "df = df[df['Activity'].notna()].copy()",
   "id": "2d00aa5574a66743",
   "outputs": [],
   "execution_count": 225
  },
  {
   "metadata": {},
   "cell_type": "markdown",
   "source": "Посмотрим на размер",
   "id": "130f70e3b64c75d8"
  },
  {
   "metadata": {
    "ExecuteTime": {
     "end_time": "2025-07-11T22:53:31.301044Z",
     "start_time": "2025-07-11T22:53:31.286517Z"
    }
   },
   "cell_type": "code",
   "source": "df.shape",
   "id": "d7599f9614b88105",
   "outputs": [
    {
     "data": {
      "text/plain": [
       "(6393, 7)"
      ]
     },
     "execution_count": 226,
     "metadata": {},
     "output_type": "execute_result"
    }
   ],
   "execution_count": 226
  },
  {
   "metadata": {},
   "cell_type": "markdown",
   "source": "### Проверка корректности SMILES",
   "id": "5a2fc24d1a31af6f"
  },
  {
   "metadata": {
    "ExecuteTime": {
     "end_time": "2025-07-11T22:53:31.348428Z",
     "start_time": "2025-07-11T22:53:31.333748Z"
    }
   },
   "cell_type": "code",
   "source": [
    "def is_valid_smiles(smiles):\n",
    "    try:\n",
    "        mol = Chem.MolFromSmiles(smiles)\n",
    "        return mol is not None\n",
    "    except:\n",
    "        return False"
   ],
   "id": "ffb848754776fedd",
   "outputs": [],
   "execution_count": 227
  },
  {
   "metadata": {},
   "cell_type": "markdown",
   "source": "Фильтрация по валидным SMILES",
   "id": "da0072cbad1753e4"
  },
  {
   "metadata": {
    "ExecuteTime": {
     "end_time": "2025-07-11T22:53:32.256030Z",
     "start_time": "2025-07-11T22:53:31.364345Z"
    }
   },
   "cell_type": "code",
   "source": [
    "mask = df['Smiles'].apply(is_valid_smiles)\n",
    "df = df[mask].reset_index(drop=True)"
   ],
   "id": "74c2efc8a933ef15",
   "outputs": [],
   "execution_count": 228
  },
  {
   "metadata": {},
   "cell_type": "markdown",
   "source": "Смотрим на результат",
   "id": "8ce16713adb466f1"
  },
  {
   "metadata": {
    "ExecuteTime": {
     "end_time": "2025-07-11T22:53:32.286576Z",
     "start_time": "2025-07-11T22:53:32.273605Z"
    }
   },
   "cell_type": "code",
   "source": "df.shape",
   "id": "cce76d3568b70a7e",
   "outputs": [
    {
     "data": {
      "text/plain": [
       "(6392, 7)"
      ]
     },
     "execution_count": 229,
     "metadata": {},
     "output_type": "execute_result"
    }
   ],
   "execution_count": 229
  },
  {
   "metadata": {},
   "cell_type": "markdown",
   "source": "### Сохранение нового датасета",
   "id": "88cc0d134cc42e04"
  },
  {
   "metadata": {},
   "cell_type": "markdown",
   "source": "Удаляем колонку Standard Units, он больше не нужен",
   "id": "5a855d69986dc143"
  },
  {
   "metadata": {
    "ExecuteTime": {
     "end_time": "2025-07-11T22:53:32.365247Z",
     "start_time": "2025-07-11T22:53:32.346416Z"
    }
   },
   "cell_type": "code",
   "source": "df.drop('Standard Units', axis=1, inplace=True)",
   "id": "fa2be84d8571580",
   "outputs": [],
   "execution_count": 230
  },
  {
   "metadata": {
    "ExecuteTime": {
     "end_time": "2025-07-11T22:53:32.412228Z",
     "start_time": "2025-07-11T22:53:32.381819Z"
    }
   },
   "cell_type": "code",
   "source": "df.to_csv(\"new_data.csv\", index=False)",
   "id": "1c3a3c11e8fb324d",
   "outputs": [],
   "execution_count": 231
  }
 ],
 "metadata": {
  "kernelspec": {
   "display_name": "Python 3",
   "language": "python",
   "name": "python3"
  },
  "language_info": {
   "codemirror_mode": {
    "name": "ipython",
    "version": 2
   },
   "file_extension": ".py",
   "mimetype": "text/x-python",
   "name": "python",
   "nbconvert_exporter": "python",
   "pygments_lexer": "ipython2",
   "version": "2.7.6"
  }
 },
 "nbformat": 4,
 "nbformat_minor": 5
}
