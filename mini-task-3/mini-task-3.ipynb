{
 "cells": [
  {
   "metadata": {},
   "cell_type": "markdown",
   "source": "# Мини‑таск 3: Обучение моделей для предсказания биологической активности",
   "id": "7d9c72ef1671b593"
  },
  {
   "metadata": {},
   "cell_type": "markdown",
   "source": "### Импорт необходимых библиотек",
   "id": "4ce8ce49b34f63c0"
  },
  {
   "metadata": {
    "ExecuteTime": {
     "end_time": "2025-07-13T10:42:47.895132Z",
     "start_time": "2025-07-13T10:42:47.876415Z"
    }
   },
   "cell_type": "code",
   "source": [
    "from sklearn.model_selection import train_test_split, KFold, cross_val_score\n",
    "from sklearn.preprocessing import StandardScaler\n",
    "from sklearn.ensemble import RandomForestRegressor, GradientBoostingRegressor\n",
    "from xgboost import XGBRegressor\n",
    "from lightgbm import LGBMRegressor\n",
    "from sklearn.metrics import mean_squared_error, mean_absolute_error, r2_score\n",
    "from tensorflow.keras import layers, callbacks\n",
    "from tensorflow.keras.models import Model"
   ],
   "id": "211fa885689b20b9",
   "outputs": [],
   "execution_count": 29
  },
  {
   "metadata": {},
   "cell_type": "markdown",
   "source": "Для воспроизводимости результатов фиксируем seed",
   "id": "6a3be2eeb55d7fc7"
  },
  {
   "metadata": {
    "ExecuteTime": {
     "end_time": "2025-07-13T10:42:47.911014Z",
     "start_time": "2025-07-13T10:42:47.898993Z"
    }
   },
   "cell_type": "code",
   "source": [
    "SEED = 42\n",
    "np.random.seed(SEED)\n",
    "tf.random.set_seed(SEED)"
   ],
   "id": "af822124c8ac0374",
   "outputs": [],
   "execution_count": 30
  },
  {
   "metadata": {},
   "cell_type": "markdown",
   "source": "### Загрузка датасета",
   "id": "9fb4abc4b4f2cc61"
  },
  {
   "metadata": {
    "ExecuteTime": {
     "end_time": "2025-07-13T10:42:48.284938Z",
     "start_time": "2025-07-13T10:42:47.942439Z"
    }
   },
   "cell_type": "code",
   "source": "df = pd.read_csv(\"data.csv\")",
   "id": "9069ce80b508ad9a",
   "outputs": [],
   "execution_count": 31
  },
  {
   "metadata": {
    "ExecuteTime": {
     "end_time": "2025-07-13T10:42:48.345469Z",
     "start_time": "2025-07-13T10:42:48.316098Z"
    }
   },
   "cell_type": "code",
   "source": "X = df.drop(columns=[\"Smiles\", \"Standard Value\", \"Activity\"]).values",
   "id": "9b200cf244d7fcd2",
   "outputs": [],
   "execution_count": 32
  },
  {
   "metadata": {
    "ExecuteTime": {
     "end_time": "2025-07-13T10:42:48.392689Z",
     "start_time": "2025-07-13T10:42:48.378006Z"
    }
   },
   "cell_type": "code",
   "source": "y_nm = df[\"Activity\"].values",
   "id": "45246919fd76b815",
   "outputs": [],
   "execution_count": 33
  },
  {
   "metadata": {},
   "cell_type": "markdown",
   "source": "Переводим IC50 → pIC50 = 9 − log10(IC50)",
   "id": "74125f37ac6cc0ae"
  },
  {
   "metadata": {
    "ExecuteTime": {
     "end_time": "2025-07-13T10:42:48.438160Z",
     "start_time": "2025-07-13T10:42:48.424375Z"
    }
   },
   "cell_type": "code",
   "source": "y = 9 - np.log10(y_nm + 1e-9)",
   "id": "a7fcc4a430763d5",
   "outputs": [],
   "execution_count": 34
  },
  {
   "metadata": {},
   "cell_type": "markdown",
   "source": "### Разбиение датасета и стандартизация",
   "id": "fdca6c00b5c92bcf"
  },
  {
   "metadata": {
    "ExecuteTime": {
     "end_time": "2025-07-13T10:42:48.532252Z",
     "start_time": "2025-07-13T10:42:48.470360Z"
    }
   },
   "cell_type": "code",
   "source": [
    "X_train, X_test, y_train, y_test = train_test_split(\n",
    "    X, y, test_size=0.2, random_state=SEED\n",
    ")"
   ],
   "id": "fed3c18a6238b2e3",
   "outputs": [],
   "execution_count": 35
  },
  {
   "metadata": {
    "ExecuteTime": {
     "end_time": "2025-07-13T10:42:48.640331Z",
     "start_time": "2025-07-13T10:42:48.565102Z"
    }
   },
   "cell_type": "code",
   "source": [
    "scaler = StandardScaler().fit(X_train)\n",
    "X_train_scaled = scaler.transform(X_train)\n",
    "X_test_scaled  = scaler.transform(X_test)"
   ],
   "id": "974a0aa358206a08",
   "outputs": [],
   "execution_count": 36
  },
  {
   "metadata": {},
   "cell_type": "markdown",
   "source": "### Классические модели",
   "id": "5e2af088c39baa92"
  },
  {
   "metadata": {
    "ExecuteTime": {
     "end_time": "2025-07-13T10:42:48.686059Z",
     "start_time": "2025-07-13T10:42:48.671977Z"
    }
   },
   "cell_type": "code",
   "source": [
    "classical_models = {\n",
    "    \"RF\":  RandomForestRegressor(n_estimators=200, random_state=SEED, n_jobs=-1),\n",
    "    \"GB\":  GradientBoostingRegressor(n_estimators=200, random_state=SEED),\n",
    "    \"XGB\": XGBRegressor(n_estimators=200, random_state=SEED, verbosity=0),\n",
    "    \"LGB\": LGBMRegressor(n_estimators=200, random_state=SEED, n_jobs=-1),\n",
    "}"
   ],
   "id": "3b4ecde93a6ccf68",
   "outputs": [],
   "execution_count": 37
  },
  {
   "metadata": {},
   "cell_type": "markdown",
   "source": "5-фолдовая CV с рандомизацией",
   "id": "483c282d719a926"
  },
  {
   "metadata": {
    "ExecuteTime": {
     "end_time": "2025-07-13T10:42:48.733176Z",
     "start_time": "2025-07-13T10:42:48.718450Z"
    }
   },
   "cell_type": "code",
   "source": [
    "cv = KFold(n_splits=5, shuffle=True, random_state=SEED)\n",
    "cv_results = []"
   ],
   "id": "26cfce813519404",
   "outputs": [],
   "execution_count": 38
  },
  {
   "metadata": {
    "ExecuteTime": {
     "end_time": "2025-07-13T10:45:59.808499Z",
     "start_time": "2025-07-13T10:42:48.765008Z"
    }
   },
   "cell_type": "code",
   "source": [
    "for name, model in classical_models.items():\n",
    "    # RMSE через отрицательную MSE\n",
    "    rmse = np.mean(\n",
    "        np.sqrt(-cross_val_score(\n",
    "            model, X_train_scaled, y_train,\n",
    "            cv=cv, scoring=\"neg_mean_squared_error\", n_jobs=-1\n",
    "        ))\n",
    "    )\n",
    "    # MAE через отрицательную MAE\n",
    "    mae = np.mean(\n",
    "        -cross_val_score(\n",
    "            model, X_train_scaled, y_train,\n",
    "            cv=cv, scoring=\"neg_mean_absolute_error\", n_jobs=-1\n",
    "        )\n",
    "    )\n",
    "    # Коэффициент детерминации R²\n",
    "    r2 = np.mean(\n",
    "        cross_val_score(\n",
    "            model, X_train_scaled, y_train,\n",
    "            cv=cv, scoring=\"r2\", n_jobs=-1\n",
    "        )\n",
    "    )\n",
    "    cv_results.append((name, rmse, mae, r2))"
   ],
   "id": "ea8aaa2034890769",
   "outputs": [],
   "execution_count": 39
  },
  {
   "metadata": {
    "ExecuteTime": {
     "end_time": "2025-07-13T10:45:59.885485Z",
     "start_time": "2025-07-13T10:45:59.871480Z"
    }
   },
   "cell_type": "code",
   "source": [
    "df_cv = pd.DataFrame(cv_results, columns=[\"Model\", \"RMSE\", \"MAE\", \"R2\"])\n",
    "print(df_cv)"
   ],
   "id": "857db328d96c8425",
   "outputs": [
    {
     "name": "stdout",
     "output_type": "stream",
     "text": [
      "  Model      RMSE       MAE        R2\n",
      "0    RF  0.128982  0.010707  0.989329\n",
      "1    GB  0.133300  0.018968  0.989714\n",
      "2   XGB  0.188920  0.021479  0.976202\n",
      "3   LGB  0.221422  0.029384  0.971170\n"
     ]
    }
   ],
   "execution_count": 40
  },
  {
   "metadata": {},
   "cell_type": "markdown",
   "source": "### Нейронные сети",
   "id": "ece27ef5d915963c"
  },
  {
   "metadata": {
    "ExecuteTime": {
     "end_time": "2025-07-13T10:45:59.900905Z",
     "start_time": "2025-07-13T10:45:59.892485Z"
    }
   },
   "cell_type": "code",
   "source": [
    "def build_mlp(input_dim):\n",
    "    inp = layers.Input(shape=(input_dim,))\n",
    "    x   = layers.Dense(256, activation=\"relu\")(inp)\n",
    "    x   = layers.Dropout(0.2)(x)\n",
    "    x   = layers.Dense(128, activation=\"relu\")(x)\n",
    "    x   = layers.Dropout(0.2)(x)\n",
    "    out = layers.Dense(1, activation=\"linear\")(x)\n",
    "\n",
    "    m = Model(inp, out)\n",
    "    m.compile(\n",
    "        optimizer=\"adam\",\n",
    "        loss=\"mse\",\n",
    "        metrics=[\"mae\"]\n",
    "    )\n",
    "    return m"
   ],
   "id": "bed1123e2f91374",
   "outputs": [],
   "execution_count": 41
  },
  {
   "metadata": {},
   "cell_type": "markdown",
   "source": "Строим и обучаем MLP",
   "id": "a9f58f741ae081bc"
  },
  {
   "metadata": {
    "ExecuteTime": {
     "end_time": "2025-07-13T10:46:02.580390Z",
     "start_time": "2025-07-13T10:45:59.933503Z"
    }
   },
   "cell_type": "code",
   "source": [
    "mlp = build_mlp(X_train_scaled.shape[1])\n",
    "mlp.fit(\n",
    "    X_train_scaled, y_train,\n",
    "    validation_split=0.1,      # 10% из train на валидацию\n",
    "    epochs=50,\n",
    "    batch_size=64,\n",
    "    callbacks=[callbacks.EarlyStopping(patience=5, restore_best_weights=True)],\n",
    "    verbose=1\n",
    ")"
   ],
   "id": "3fcd1efb1804ebdb",
   "outputs": [
    {
     "name": "stdout",
     "output_type": "stream",
     "text": [
      "Epoch 1/50\n",
      "\u001B[1m72/72\u001B[0m \u001B[32m━━━━━━━━━━━━━━━━━━━━\u001B[0m\u001B[37m\u001B[0m \u001B[1m1s\u001B[0m 4ms/step - loss: 11.7569 - mae: 2.5671 - val_loss: 1.3952 - val_mae: 0.9141\n",
      "Epoch 2/50\n",
      "\u001B[1m72/72\u001B[0m \u001B[32m━━━━━━━━━━━━━━━━━━━━\u001B[0m\u001B[37m\u001B[0m \u001B[1m0s\u001B[0m 3ms/step - loss: 2.2794 - mae: 1.1362 - val_loss: 1.2029 - val_mae: 0.8179\n",
      "Epoch 3/50\n",
      "\u001B[1m72/72\u001B[0m \u001B[32m━━━━━━━━━━━━━━━━━━━━\u001B[0m\u001B[37m\u001B[0m \u001B[1m0s\u001B[0m 3ms/step - loss: 1.6056 - mae: 0.9823 - val_loss: 1.1268 - val_mae: 0.8034\n",
      "Epoch 4/50\n",
      "\u001B[1m72/72\u001B[0m \u001B[32m━━━━━━━━━━━━━━━━━━━━\u001B[0m\u001B[37m\u001B[0m \u001B[1m0s\u001B[0m 3ms/step - loss: 1.4557 - mae: 0.9132 - val_loss: 1.1121 - val_mae: 0.7774\n",
      "Epoch 5/50\n",
      "\u001B[1m72/72\u001B[0m \u001B[32m━━━━━━━━━━━━━━━━━━━━\u001B[0m\u001B[37m\u001B[0m \u001B[1m0s\u001B[0m 3ms/step - loss: 1.3635 - mae: 0.8749 - val_loss: 1.1700 - val_mae: 0.8068\n",
      "Epoch 6/50\n",
      "\u001B[1m72/72\u001B[0m \u001B[32m━━━━━━━━━━━━━━━━━━━━\u001B[0m\u001B[37m\u001B[0m \u001B[1m0s\u001B[0m 3ms/step - loss: 1.2308 - mae: 0.8372 - val_loss: 1.1592 - val_mae: 0.7780\n",
      "Epoch 7/50\n",
      "\u001B[1m72/72\u001B[0m \u001B[32m━━━━━━━━━━━━━━━━━━━━\u001B[0m\u001B[37m\u001B[0m \u001B[1m0s\u001B[0m 3ms/step - loss: 1.1166 - mae: 0.8021 - val_loss: 1.1449 - val_mae: 0.7612\n",
      "Epoch 8/50\n",
      "\u001B[1m72/72\u001B[0m \u001B[32m━━━━━━━━━━━━━━━━━━━━\u001B[0m\u001B[37m\u001B[0m \u001B[1m0s\u001B[0m 3ms/step - loss: 1.0609 - mae: 0.7860 - val_loss: 1.2362 - val_mae: 0.8098\n",
      "Epoch 9/50\n",
      "\u001B[1m72/72\u001B[0m \u001B[32m━━━━━━━━━━━━━━━━━━━━\u001B[0m\u001B[37m\u001B[0m \u001B[1m0s\u001B[0m 3ms/step - loss: 1.1144 - mae: 0.7813 - val_loss: 1.1331 - val_mae: 0.7628\n"
     ]
    },
    {
     "data": {
      "text/plain": [
       "<keras.src.callbacks.history.History at 0x203865aa560>"
      ]
     },
     "execution_count": 42,
     "metadata": {},
     "output_type": "execute_result"
    }
   ],
   "execution_count": 42
  },
  {
   "metadata": {},
   "cell_type": "markdown",
   "source": "1D-сверточная сеть",
   "id": "b9f812ea1e1eed15"
  },
  {
   "metadata": {
    "ExecuteTime": {
     "end_time": "2025-07-13T10:46:02.625390Z",
     "start_time": "2025-07-13T10:46:02.611471Z"
    }
   },
   "cell_type": "code",
   "source": [
    "X_train_c = X_train_scaled[..., np.newaxis]\n",
    "X_test_c  = X_test_scaled[...,  np.newaxis]\n",
    "\n",
    "def build_cnn(seq_len):\n",
    "    inp = layers.Input(shape=(seq_len, 1))\n",
    "    x   = layers.Conv1D(64, 3, activation=\"relu\")(inp)\n",
    "    x   = layers.MaxPooling1D(2)(x)\n",
    "    x   = layers.Conv1D(32, 3, activation=\"relu\")(x)\n",
    "    x   = layers.GlobalMaxPooling1D()(x)\n",
    "    x   = layers.Dense(64, activation=\"relu\")(x)\n",
    "    out = layers.Dense(1, activation=\"linear\")(x)\n",
    "\n",
    "    m = Model(inp, out)\n",
    "    m.compile(\n",
    "        optimizer=\"adam\",\n",
    "        loss=\"mse\",\n",
    "        metrics=[\"mae\"]\n",
    "    )\n",
    "    return m"
   ],
   "id": "122de76b98ec1904",
   "outputs": [],
   "execution_count": 43
  },
  {
   "metadata": {},
   "cell_type": "markdown",
   "source": "Строим и обучаем CNN",
   "id": "fcfc654d020f6b7f"
  },
  {
   "metadata": {
    "ExecuteTime": {
     "end_time": "2025-07-13T10:46:40.907962Z",
     "start_time": "2025-07-13T10:46:02.688375Z"
    }
   },
   "cell_type": "code",
   "source": [
    "cnn = build_cnn(X_train_scaled.shape[1])\n",
    "cnn.fit(\n",
    "    X_train_c, y_train,\n",
    "    validation_split=0.1,\n",
    "    epochs=50,\n",
    "    batch_size=64,\n",
    "    callbacks=[callbacks.EarlyStopping(patience=5, restore_best_weights=True)],\n",
    "    verbose=1\n",
    ")"
   ],
   "id": "990264838f88eaab",
   "outputs": [
    {
     "name": "stdout",
     "output_type": "stream",
     "text": [
      "Epoch 1/50\n",
      "\u001B[1m72/72\u001B[0m \u001B[32m━━━━━━━━━━━━━━━━━━━━\u001B[0m\u001B[37m\u001B[0m \u001B[1m1s\u001B[0m 12ms/step - loss: 11.8335 - mae: 2.7715 - val_loss: 5.9062 - val_mae: 1.8204\n",
      "Epoch 2/50\n",
      "\u001B[1m72/72\u001B[0m \u001B[32m━━━━━━━━━━━━━━━━━━━━\u001B[0m\u001B[37m\u001B[0m \u001B[1m1s\u001B[0m 10ms/step - loss: 4.9661 - mae: 1.7445 - val_loss: 3.8058 - val_mae: 1.5105\n",
      "Epoch 3/50\n",
      "\u001B[1m72/72\u001B[0m \u001B[32m━━━━━━━━━━━━━━━━━━━━\u001B[0m\u001B[37m\u001B[0m \u001B[1m1s\u001B[0m 10ms/step - loss: 3.3967 - mae: 1.4629 - val_loss: 2.3223 - val_mae: 1.2373\n",
      "Epoch 4/50\n",
      "\u001B[1m72/72\u001B[0m \u001B[32m━━━━━━━━━━━━━━━━━━━━\u001B[0m\u001B[37m\u001B[0m \u001B[1m1s\u001B[0m 11ms/step - loss: 2.4377 - mae: 1.2337 - val_loss: 1.9352 - val_mae: 1.1358\n",
      "Epoch 5/50\n",
      "\u001B[1m72/72\u001B[0m \u001B[32m━━━━━━━━━━━━━━━━━━━━\u001B[0m\u001B[37m\u001B[0m \u001B[1m1s\u001B[0m 11ms/step - loss: 2.2349 - mae: 1.1591 - val_loss: 1.8365 - val_mae: 1.1015\n",
      "Epoch 6/50\n",
      "\u001B[1m72/72\u001B[0m \u001B[32m━━━━━━━━━━━━━━━━━━━━\u001B[0m\u001B[37m\u001B[0m \u001B[1m1s\u001B[0m 10ms/step - loss: 2.1627 - mae: 1.1362 - val_loss: 1.8034 - val_mae: 1.0901\n",
      "Epoch 7/50\n",
      "\u001B[1m72/72\u001B[0m \u001B[32m━━━━━━━━━━━━━━━━━━━━\u001B[0m\u001B[37m\u001B[0m \u001B[1m1s\u001B[0m 10ms/step - loss: 2.1349 - mae: 1.1267 - val_loss: 1.7846 - val_mae: 1.0850\n",
      "Epoch 8/50\n",
      "\u001B[1m72/72\u001B[0m \u001B[32m━━━━━━━━━━━━━━━━━━━━\u001B[0m\u001B[37m\u001B[0m \u001B[1m1s\u001B[0m 10ms/step - loss: 2.1125 - mae: 1.1202 - val_loss: 1.7700 - val_mae: 1.0811\n",
      "Epoch 9/50\n",
      "\u001B[1m72/72\u001B[0m \u001B[32m━━━━━━━━━━━━━━━━━━━━\u001B[0m\u001B[37m\u001B[0m \u001B[1m1s\u001B[0m 10ms/step - loss: 2.0987 - mae: 1.1154 - val_loss: 1.7525 - val_mae: 1.0754\n",
      "Epoch 10/50\n",
      "\u001B[1m72/72\u001B[0m \u001B[32m━━━━━━━━━━━━━━━━━━━━\u001B[0m\u001B[37m\u001B[0m \u001B[1m1s\u001B[0m 10ms/step - loss: 2.0856 - mae: 1.1105 - val_loss: 1.7379 - val_mae: 1.0708\n",
      "Epoch 11/50\n",
      "\u001B[1m72/72\u001B[0m \u001B[32m━━━━━━━━━━━━━━━━━━━━\u001B[0m\u001B[37m\u001B[0m \u001B[1m1s\u001B[0m 10ms/step - loss: 2.0737 - mae: 1.1068 - val_loss: 1.7241 - val_mae: 1.0666\n",
      "Epoch 12/50\n",
      "\u001B[1m72/72\u001B[0m \u001B[32m━━━━━━━━━━━━━━━━━━━━\u001B[0m\u001B[37m\u001B[0m \u001B[1m1s\u001B[0m 10ms/step - loss: 2.0659 - mae: 1.1041 - val_loss: 1.7124 - val_mae: 1.0627\n",
      "Epoch 13/50\n",
      "\u001B[1m72/72\u001B[0m \u001B[32m━━━━━━━━━━━━━━━━━━━━\u001B[0m\u001B[37m\u001B[0m \u001B[1m1s\u001B[0m 10ms/step - loss: 2.0506 - mae: 1.0994 - val_loss: 1.7027 - val_mae: 1.0599\n",
      "Epoch 14/50\n",
      "\u001B[1m72/72\u001B[0m \u001B[32m━━━━━━━━━━━━━━━━━━━━\u001B[0m\u001B[37m\u001B[0m \u001B[1m1s\u001B[0m 10ms/step - loss: 2.0400 - mae: 1.0960 - val_loss: 1.6887 - val_mae: 1.0552\n",
      "Epoch 15/50\n",
      "\u001B[1m72/72\u001B[0m \u001B[32m━━━━━━━━━━━━━━━━━━━━\u001B[0m\u001B[37m\u001B[0m \u001B[1m1s\u001B[0m 10ms/step - loss: 2.0266 - mae: 1.0921 - val_loss: 1.6816 - val_mae: 1.0533\n",
      "Epoch 16/50\n",
      "\u001B[1m72/72\u001B[0m \u001B[32m━━━━━━━━━━━━━━━━━━━━\u001B[0m\u001B[37m\u001B[0m \u001B[1m1s\u001B[0m 10ms/step - loss: 2.0189 - mae: 1.0897 - val_loss: 1.6597 - val_mae: 1.0455\n",
      "Epoch 17/50\n",
      "\u001B[1m72/72\u001B[0m \u001B[32m━━━━━━━━━━━━━━━━━━━━\u001B[0m\u001B[37m\u001B[0m \u001B[1m1s\u001B[0m 10ms/step - loss: 1.9989 - mae: 1.0841 - val_loss: 1.6442 - val_mae: 1.0409\n",
      "Epoch 18/50\n",
      "\u001B[1m72/72\u001B[0m \u001B[32m━━━━━━━━━━━━━━━━━━━━\u001B[0m\u001B[37m\u001B[0m \u001B[1m1s\u001B[0m 10ms/step - loss: 1.9884 - mae: 1.0805 - val_loss: 1.6363 - val_mae: 1.0387\n",
      "Epoch 19/50\n",
      "\u001B[1m72/72\u001B[0m \u001B[32m━━━━━━━━━━━━━━━━━━━━\u001B[0m\u001B[37m\u001B[0m \u001B[1m1s\u001B[0m 10ms/step - loss: 1.9792 - mae: 1.0775 - val_loss: 1.6226 - val_mae: 1.0335\n",
      "Epoch 20/50\n",
      "\u001B[1m72/72\u001B[0m \u001B[32m━━━━━━━━━━━━━━━━━━━━\u001B[0m\u001B[37m\u001B[0m \u001B[1m1s\u001B[0m 10ms/step - loss: 1.9674 - mae: 1.0732 - val_loss: 1.6127 - val_mae: 1.0296\n",
      "Epoch 21/50\n",
      "\u001B[1m72/72\u001B[0m \u001B[32m━━━━━━━━━━━━━━━━━━━━\u001B[0m\u001B[37m\u001B[0m \u001B[1m1s\u001B[0m 10ms/step - loss: 1.9566 - mae: 1.0689 - val_loss: 1.5950 - val_mae: 1.0231\n",
      "Epoch 22/50\n",
      "\u001B[1m72/72\u001B[0m \u001B[32m━━━━━━━━━━━━━━━━━━━━\u001B[0m\u001B[37m\u001B[0m \u001B[1m1s\u001B[0m 10ms/step - loss: 1.9397 - mae: 1.0635 - val_loss: 1.5921 - val_mae: 1.0222\n",
      "Epoch 23/50\n",
      "\u001B[1m72/72\u001B[0m \u001B[32m━━━━━━━━━━━━━━━━━━━━\u001B[0m\u001B[37m\u001B[0m \u001B[1m1s\u001B[0m 10ms/step - loss: 1.9288 - mae: 1.0594 - val_loss: 1.5781 - val_mae: 1.0166\n",
      "Epoch 24/50\n",
      "\u001B[1m72/72\u001B[0m \u001B[32m━━━━━━━━━━━━━━━━━━━━\u001B[0m\u001B[37m\u001B[0m \u001B[1m1s\u001B[0m 10ms/step - loss: 1.9194 - mae: 1.0558 - val_loss: 1.5706 - val_mae: 1.0140\n",
      "Epoch 25/50\n",
      "\u001B[1m72/72\u001B[0m \u001B[32m━━━━━━━━━━━━━━━━━━━━\u001B[0m\u001B[37m\u001B[0m \u001B[1m1s\u001B[0m 10ms/step - loss: 1.9063 - mae: 1.0520 - val_loss: 1.5560 - val_mae: 1.0083\n",
      "Epoch 26/50\n",
      "\u001B[1m72/72\u001B[0m \u001B[32m━━━━━━━━━━━━━━━━━━━━\u001B[0m\u001B[37m\u001B[0m \u001B[1m1s\u001B[0m 10ms/step - loss: 1.8956 - mae: 1.0484 - val_loss: 1.5449 - val_mae: 1.0035\n",
      "Epoch 27/50\n",
      "\u001B[1m72/72\u001B[0m \u001B[32m━━━━━━━━━━━━━━━━━━━━\u001B[0m\u001B[37m\u001B[0m \u001B[1m1s\u001B[0m 10ms/step - loss: 1.8873 - mae: 1.0447 - val_loss: 1.5398 - val_mae: 1.0017\n",
      "Epoch 28/50\n",
      "\u001B[1m72/72\u001B[0m \u001B[32m━━━━━━━━━━━━━━━━━━━━\u001B[0m\u001B[37m\u001B[0m \u001B[1m1s\u001B[0m 10ms/step - loss: 1.8806 - mae: 1.0426 - val_loss: 1.5366 - val_mae: 1.0005\n",
      "Epoch 29/50\n",
      "\u001B[1m72/72\u001B[0m \u001B[32m━━━━━━━━━━━━━━━━━━━━\u001B[0m\u001B[37m\u001B[0m \u001B[1m1s\u001B[0m 10ms/step - loss: 1.8732 - mae: 1.0389 - val_loss: 1.5284 - val_mae: 0.9966\n",
      "Epoch 30/50\n",
      "\u001B[1m72/72\u001B[0m \u001B[32m━━━━━━━━━━━━━━━━━━━━\u001B[0m\u001B[37m\u001B[0m \u001B[1m1s\u001B[0m 10ms/step - loss: 1.8662 - mae: 1.0370 - val_loss: 1.5417 - val_mae: 0.9998\n",
      "Epoch 31/50\n",
      "\u001B[1m72/72\u001B[0m \u001B[32m━━━━━━━━━━━━━━━━━━━━\u001B[0m\u001B[37m\u001B[0m \u001B[1m1s\u001B[0m 10ms/step - loss: 1.8620 - mae: 1.0352 - val_loss: 1.5344 - val_mae: 0.9991\n",
      "Epoch 32/50\n",
      "\u001B[1m72/72\u001B[0m \u001B[32m━━━━━━━━━━━━━━━━━━━━\u001B[0m\u001B[37m\u001B[0m \u001B[1m1s\u001B[0m 10ms/step - loss: 1.8548 - mae: 1.0327 - val_loss: 1.5243 - val_mae: 0.9954\n",
      "Epoch 33/50\n",
      "\u001B[1m72/72\u001B[0m \u001B[32m━━━━━━━━━━━━━━━━━━━━\u001B[0m\u001B[37m\u001B[0m \u001B[1m1s\u001B[0m 10ms/step - loss: 1.8484 - mae: 1.0305 - val_loss: 1.5226 - val_mae: 0.9943\n",
      "Epoch 34/50\n",
      "\u001B[1m72/72\u001B[0m \u001B[32m━━━━━━━━━━━━━━━━━━━━\u001B[0m\u001B[37m\u001B[0m \u001B[1m1s\u001B[0m 10ms/step - loss: 1.8395 - mae: 1.0273 - val_loss: 1.5160 - val_mae: 0.9917\n",
      "Epoch 35/50\n",
      "\u001B[1m72/72\u001B[0m \u001B[32m━━━━━━━━━━━━━━━━━━━━\u001B[0m\u001B[37m\u001B[0m \u001B[1m1s\u001B[0m 10ms/step - loss: 1.8332 - mae: 1.0254 - val_loss: 1.5158 - val_mae: 0.9924\n",
      "Epoch 36/50\n",
      "\u001B[1m72/72\u001B[0m \u001B[32m━━━━━━━━━━━━━━━━━━━━\u001B[0m\u001B[37m\u001B[0m \u001B[1m1s\u001B[0m 10ms/step - loss: 1.8275 - mae: 1.0224 - val_loss: 1.5098 - val_mae: 0.9893\n",
      "Epoch 37/50\n",
      "\u001B[1m72/72\u001B[0m \u001B[32m━━━━━━━━━━━━━━━━━━━━\u001B[0m\u001B[37m\u001B[0m \u001B[1m1s\u001B[0m 10ms/step - loss: 1.8231 - mae: 1.0211 - val_loss: 1.5065 - val_mae: 0.9874\n",
      "Epoch 38/50\n",
      "\u001B[1m72/72\u001B[0m \u001B[32m━━━━━━━━━━━━━━━━━━━━\u001B[0m\u001B[37m\u001B[0m \u001B[1m1s\u001B[0m 10ms/step - loss: 1.8170 - mae: 1.0187 - val_loss: 1.5076 - val_mae: 0.9876\n",
      "Epoch 39/50\n",
      "\u001B[1m72/72\u001B[0m \u001B[32m━━━━━━━━━━━━━━━━━━━━\u001B[0m\u001B[37m\u001B[0m \u001B[1m1s\u001B[0m 10ms/step - loss: 1.8101 - mae: 1.0170 - val_loss: 1.4952 - val_mae: 0.9832\n",
      "Epoch 40/50\n",
      "\u001B[1m72/72\u001B[0m \u001B[32m━━━━━━━━━━━━━━━━━━━━\u001B[0m\u001B[37m\u001B[0m \u001B[1m1s\u001B[0m 10ms/step - loss: 1.8007 - mae: 1.0124 - val_loss: 1.4897 - val_mae: 0.9806\n",
      "Epoch 41/50\n",
      "\u001B[1m72/72\u001B[0m \u001B[32m━━━━━━━━━━━━━━━━━━━━\u001B[0m\u001B[37m\u001B[0m \u001B[1m1s\u001B[0m 10ms/step - loss: 1.7969 - mae: 1.0121 - val_loss: 1.4894 - val_mae: 0.9793\n",
      "Epoch 42/50\n",
      "\u001B[1m72/72\u001B[0m \u001B[32m━━━━━━━━━━━━━━━━━━━━\u001B[0m\u001B[37m\u001B[0m \u001B[1m1s\u001B[0m 10ms/step - loss: 1.7885 - mae: 1.0087 - val_loss: 1.4813 - val_mae: 0.9773\n",
      "Epoch 43/50\n",
      "\u001B[1m72/72\u001B[0m \u001B[32m━━━━━━━━━━━━━━━━━━━━\u001B[0m\u001B[37m\u001B[0m \u001B[1m1s\u001B[0m 10ms/step - loss: 1.7818 - mae: 1.0071 - val_loss: 1.4796 - val_mae: 0.9754\n",
      "Epoch 44/50\n",
      "\u001B[1m72/72\u001B[0m \u001B[32m━━━━━━━━━━━━━━━━━━━━\u001B[0m\u001B[37m\u001B[0m \u001B[1m1s\u001B[0m 11ms/step - loss: 1.7778 - mae: 1.0062 - val_loss: 1.4750 - val_mae: 0.9741\n",
      "Epoch 45/50\n",
      "\u001B[1m72/72\u001B[0m \u001B[32m━━━━━━━━━━━━━━━━━━━━\u001B[0m\u001B[37m\u001B[0m \u001B[1m1s\u001B[0m 11ms/step - loss: 1.7715 - mae: 1.0042 - val_loss: 1.4735 - val_mae: 0.9732\n",
      "Epoch 46/50\n",
      "\u001B[1m72/72\u001B[0m \u001B[32m━━━━━━━━━━━━━━━━━━━━\u001B[0m\u001B[37m\u001B[0m \u001B[1m1s\u001B[0m 10ms/step - loss: 1.7655 - mae: 1.0019 - val_loss: 1.4650 - val_mae: 0.9697\n",
      "Epoch 47/50\n",
      "\u001B[1m72/72\u001B[0m \u001B[32m━━━━━━━━━━━━━━━━━━━━\u001B[0m\u001B[37m\u001B[0m \u001B[1m1s\u001B[0m 11ms/step - loss: 1.7578 - mae: 1.0001 - val_loss: 1.4614 - val_mae: 0.9690\n",
      "Epoch 48/50\n",
      "\u001B[1m72/72\u001B[0m \u001B[32m━━━━━━━━━━━━━━━━━━━━\u001B[0m\u001B[37m\u001B[0m \u001B[1m1s\u001B[0m 11ms/step - loss: 1.7537 - mae: 0.9988 - val_loss: 1.4629 - val_mae: 0.9694\n",
      "Epoch 49/50\n",
      "\u001B[1m72/72\u001B[0m \u001B[32m━━━━━━━━━━━━━━━━━━━━\u001B[0m\u001B[37m\u001B[0m \u001B[1m1s\u001B[0m 11ms/step - loss: 1.7473 - mae: 0.9965 - val_loss: 1.4603 - val_mae: 0.9673\n",
      "Epoch 50/50\n",
      "\u001B[1m72/72\u001B[0m \u001B[32m━━━━━━━━━━━━━━━━━━━━\u001B[0m\u001B[37m\u001B[0m \u001B[1m1s\u001B[0m 11ms/step - loss: 1.7412 - mae: 0.9951 - val_loss: 1.4604 - val_mae: 0.9676\n"
     ]
    },
    {
     "data": {
      "text/plain": [
       "<keras.src.callbacks.history.History at 0x2038365d330>"
      ]
     },
     "execution_count": 44,
     "metadata": {},
     "output_type": "execute_result"
    }
   ],
   "execution_count": 44
  },
  {
   "metadata": {},
   "cell_type": "markdown",
   "source": "### Результаты",
   "id": "67628300ef39474"
  },
  {
   "metadata": {
    "ExecuteTime": {
     "end_time": "2025-07-13T10:46:40.938486Z",
     "start_time": "2025-07-13T10:46:40.920481Z"
    }
   },
   "cell_type": "code",
   "source": "final_results = []",
   "id": "7128984131e8ca35",
   "outputs": [],
   "execution_count": 45
  },
  {
   "metadata": {},
   "cell_type": "markdown",
   "source": "Классические модели",
   "id": "d20f369fb8910123"
  },
  {
   "metadata": {
    "ExecuteTime": {
     "end_time": "2025-07-13T10:47:11.785624Z",
     "start_time": "2025-07-13T10:46:40.969500Z"
    }
   },
   "cell_type": "code",
   "source": [
    "for name, model in classical_models.items():\n",
    "    model.fit(X_train_scaled, y_train)\n",
    "    p = model.predict(X_test_scaled)\n",
    "    final_results.append((\n",
    "        name,\n",
    "        np.sqrt(mean_squared_error(y_test, p)),  # RMSE\n",
    "        mean_absolute_error(y_test, p),          # MAE\n",
    "        r2_score(y_test, p)                      # R2\n",
    "    ))"
   ],
   "id": "c711c1051c92a11d",
   "outputs": [
    {
     "name": "stdout",
     "output_type": "stream",
     "text": [
      "[LightGBM] [Info] Auto-choosing col-wise multi-threading, the overhead of testing was 0.014063 seconds.\n",
      "You can set `force_col_wise=true` to remove the overhead.\n",
      "[LightGBM] [Info] Total Bins 11541\n",
      "[LightGBM] [Info] Number of data points in the train set: 5113, number of used features: 976\n",
      "[LightGBM] [Info] Start training from score 5.924489\n"
     ]
    },
    {
     "name": "stderr",
     "output_type": "stream",
     "text": [
      "C:\\Users\\vikal\\PycharmProjects\\Datacon\\.venv\\lib\\site-packages\\sklearn\\utils\\validation.py:2749: UserWarning: X does not have valid feature names, but LGBMRegressor was fitted with feature names\n",
      "  warnings.warn(\n"
     ]
    }
   ],
   "execution_count": 46
  },
  {
   "metadata": {},
   "cell_type": "markdown",
   "source": "MLP",
   "id": "b683c0db2ddf75b2"
  },
  {
   "metadata": {
    "ExecuteTime": {
     "end_time": "2025-07-13T10:47:12.002116Z",
     "start_time": "2025-07-13T10:47:11.832697Z"
    }
   },
   "cell_type": "code",
   "source": [
    "p_mlp = mlp.predict(X_test_scaled).ravel()\n",
    "final_results.append((\n",
    "    \"MLP\",\n",
    "    np.sqrt(mean_squared_error(y_test, p_mlp)),\n",
    "    mean_absolute_error(y_test, p_mlp),\n",
    "    r2_score(y_test, p_mlp),\n",
    "))"
   ],
   "id": "901d8e2b6e2d31b2",
   "outputs": [
    {
     "name": "stdout",
     "output_type": "stream",
     "text": [
      "\u001B[1m40/40\u001B[0m \u001B[32m━━━━━━━━━━━━━━━━━━━━\u001B[0m\u001B[37m\u001B[0m \u001B[1m0s\u001B[0m 2ms/step\n"
     ]
    }
   ],
   "execution_count": 47
  },
  {
   "metadata": {},
   "cell_type": "markdown",
   "source": "CNN",
   "id": "56632971c99cc1ee"
  },
  {
   "metadata": {
    "ExecuteTime": {
     "end_time": "2025-07-13T10:47:12.248633Z",
     "start_time": "2025-07-13T10:47:12.033996Z"
    }
   },
   "cell_type": "code",
   "source": [
    "p_cnn = cnn.predict(X_test_c).ravel()\n",
    "final_results.append((\n",
    "    \"CNN\",\n",
    "    np.sqrt(mean_squared_error(y_test, p_cnn)),\n",
    "    mean_absolute_error(y_test, p_cnn),\n",
    "    r2_score(y_test, p_cnn),\n",
    "))"
   ],
   "id": "6ba6d51b9bebf2db",
   "outputs": [
    {
     "name": "stdout",
     "output_type": "stream",
     "text": [
      "\u001B[1m40/40\u001B[0m \u001B[32m━━━━━━━━━━━━━━━━━━━━\u001B[0m\u001B[37m\u001B[0m \u001B[1m0s\u001B[0m 3ms/step\n"
     ]
    }
   ],
   "execution_count": 48
  },
  {
   "metadata": {
    "ExecuteTime": {
     "end_time": "2025-07-13T10:47:12.294303Z",
     "start_time": "2025-07-13T10:47:12.281014Z"
    }
   },
   "cell_type": "code",
   "source": [
    "df_ho = pd.DataFrame(final_results, columns=[\"Model\", \"RMSE\", \"MAE\", \"R2\"])\n",
    "print(df_ho)"
   ],
   "id": "37db728fd0137bf0",
   "outputs": [
    {
     "name": "stdout",
     "output_type": "stream",
     "text": [
      "  Model      RMSE       MAE        R2\n",
      "0    RF  0.065935  0.008676  0.998161\n",
      "1    GB  0.113823  0.019295  0.994520\n",
      "2   XGB  0.084485  0.018895  0.996981\n",
      "3   LGB  0.135795  0.028047  0.992200\n",
      "4   MLP  1.162620  0.849886  0.428247\n",
      "5   CNN  1.355170  1.026530  0.223180\n"
     ]
    }
   ],
   "execution_count": 49
  },
  {
   "metadata": {},
   "cell_type": "markdown",
   "source": [
    "Random Forest лидирует по всем трём метрикам (наименьшие ошибки, наибольший R² ≈ 0.989).\n",
    "\n",
    "Gradient Boosting почти не отстаёт (R² ≈ 0.990), чуть хуже MAE.\n",
    "\n",
    "XGBoost и LightGBM демонстрируют более высокие ошибки и чуть более низкий R², но всё ещё очень высокую объясняющую способность (> 0.97).\n",
    "\n",
    "MLP и CNN показали значительно худшие результаты по сравнению с классическими моделями."
   ],
   "id": "1b82275baa329645"
  }
 ],
 "metadata": {
  "kernelspec": {
   "display_name": "Python 3",
   "language": "python",
   "name": "python3"
  },
  "language_info": {
   "codemirror_mode": {
    "name": "ipython",
    "version": 2
   },
   "file_extension": ".py",
   "mimetype": "text/x-python",
   "name": "python",
   "nbconvert_exporter": "python",
   "pygments_lexer": "ipython2",
   "version": "2.7.6"
  }
 },
 "nbformat": 4,
 "nbformat_minor": 5
}
